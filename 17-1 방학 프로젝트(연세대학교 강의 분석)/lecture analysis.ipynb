{
 "cells": [
  {
   "cell_type": "markdown",
   "metadata": {},
   "source": [
    "# data 불러오기"
   ]
  },
  {
   "cell_type": "code",
   "execution_count": 2,
   "metadata": {
    "collapsed": true
   },
   "outputs": [],
   "source": [
    "import pandas as pd\n",
    "import re"
   ]
  },
  {
   "cell_type": "code",
   "execution_count": 4,
   "metadata": {
    "collapsed": true
   },
   "outputs": [],
   "source": [
    "data = pd.read_csv('everytime.csv', encoding='utf-8')"
   ]
  },
  {
   "cell_type": "code",
   "execution_count": 5,
   "metadata": {
    "collapsed": true
   },
   "outputs": [],
   "source": [
    "data2 = pd.read_csv('everytime_lecture.csv', encoding='utf-8')"
   ]
  },
  {
   "cell_type": "markdown",
   "metadata": {},
   "source": [
    "# data 합치기"
   ]
  },
  {
   "cell_type": "code",
   "execution_count": 6,
   "metadata": {
    "collapsed": true
   },
   "outputs": [],
   "source": [
    "data2.columns = ['attendance', 'exam_times', 'grade', 'homework', 'lecture_name', 'professor_name', 'mean_rate', 'team']"
   ]
  },
  {
   "cell_type": "code",
   "execution_count": 7,
   "metadata": {
    "collapsed": true
   },
   "outputs": [],
   "source": [
    "data2 = data2.drop_duplicates(subset=['lecture_name', 'professor_name'])"
   ]
  },
  {
   "cell_type": "code",
   "execution_count": 1191,
   "metadata": {
    "collapsed": true
   },
   "outputs": [],
   "source": [
    "tot = pd.merge(data, data2, on=['lecture_name', 'professor_name'])"
   ]
  },
  {
   "cell_type": "code",
   "execution_count": 9,
   "metadata": {
    "collapsed": true
   },
   "outputs": [],
   "source": [
    "def filter_text(row):\n",
    "    if len(row['text'])>=100:\n",
    "        return row['text']\n",
    "    else:\n",
    "        return ''"
   ]
  },
  {
   "cell_type": "code",
   "execution_count": null,
   "metadata": {
    "collapsed": true
   },
   "outputs": [],
   "source": [
    "total = tot.sort_values(['lecture_name', 'professor_name'])"
   ]
  },
  {
   "cell_type": "markdown",
   "metadata": {},
   "source": [
    "# text 추출"
   ]
  },
  {
   "cell_type": "markdown",
   "metadata": {},
   "source": [
    "## text token 뽑아내기"
   ]
  },
  {
   "cell_type": "code",
   "execution_count": null,
   "metadata": {
    "collapsed": true
   },
   "outputs": [],
   "source": [
    "tokens = set()\n",
    "\n",
    "for text in total['text']:\n",
    "    token_list = twitter.pos(text)\n",
    "    for token in token_list:\n",
    "        tokens.add(token)"
   ]
  },
  {
   "cell_type": "code",
   "execution_count": 49,
   "metadata": {},
   "outputs": [
    {
     "name": "stdout",
     "output_type": "stream",
     "text": [
      "2381 중에 2089\n"
     ]
    }
   ],
   "source": [
    "count = 0\n",
    "for e in logest_text['text']:\n",
    "    if '.' in e:\n",
    "        count += 1\n",
    "print(len(logest_text), '중에', count)"
   ]
  },
  {
   "cell_type": "code",
   "execution_count": 54,
   "metadata": {},
   "outputs": [
    {
     "name": "stdout",
     "output_type": "stream",
     "text": [
      "2381 중에 1376\n"
     ]
    }
   ],
   "source": [
    "count = 0\n",
    "for e in logest_text['text']:\n",
    "    if '요' in e:\n",
    "        count += 1\n",
    "print(len(logest_text), '중에', count)"
   ]
  },
  {
   "cell_type": "code",
   "execution_count": 53,
   "metadata": {},
   "outputs": [
    {
     "name": "stdout",
     "output_type": "stream",
     "text": [
      "2381 중에 2069\n"
     ]
    }
   ],
   "source": [
    "count = 0\n",
    "for e in logest_text['text']:\n",
    "    if '다' in e:\n",
    "        count += 1\n",
    "print(len(logest_text), '중에', count)"
   ]
  },
  {
   "cell_type": "markdown",
   "metadata": {},
   "source": [
    "## 문장 혹은 단어 추출"
   ]
  },
  {
   "cell_type": "markdown",
   "metadata": {},
   "source": [
    "### 교수"
   ]
  },
  {
   "cell_type": "code",
   "execution_count": 186,
   "metadata": {
    "collapsed": true
   },
   "outputs": [],
   "source": [
    "def prof_eval_sen(row):\n",
    "    text = row['text']\n",
    "    \n",
    "    if '.' in text: \n",
    "        start = text.find(\"교수\")\n",
    "        end = text.find(\".\",start)\n",
    "    \n",
    "    elif '다' in text: \n",
    "        start = text.find(\"교수\")\n",
    "        end = text.find(\"다\",start)\n",
    "    \n",
    "    elif '요' in text: \n",
    "        start = text.find(\"교수\")\n",
    "        end = text.find(\"요\",start)\n",
    "        \n",
    "    elif '\\n' in text: \n",
    "        start = text.find(\"교수\")\n",
    "        end = text.find(\"\\n\",start)\n",
    "    \n",
    "    elif '심' in text: \n",
    "        start = text.find(\"교수\")\n",
    "        end = text.find(\"심\",start)\n",
    "        \n",
    "    elif '임' in text: \n",
    "        start = text.find(\"교수\")\n",
    "        end = text.find(\"임\",start)\n",
    "\n",
    "    else:\n",
    "        return text\n",
    "        \n",
    "    return text[start:end]       "
   ]
  },
  {
   "cell_type": "code",
   "execution_count": 1194,
   "metadata": {
    "collapsed": true
   },
   "outputs": [],
   "source": [
    "total['prof_eval_sen'] = total.apply(lambda x: prof_eval_sen(x), axis=1)"
   ]
  },
  {
   "cell_type": "code",
   "execution_count": 49,
   "metadata": {},
   "outputs": [
    {
     "name": "stdout",
     "output_type": "stream",
     "text": [
      "전체 14037 중에 9594 이 교수평 있음.\n"
     ]
    }
   ],
   "source": [
    "print('전체', len(total), '중에', len(total.loc[lambda x: x['prof_eval_sen']!= '']),'이 교수평 있음.')"
   ]
  },
  {
   "cell_type": "markdown",
   "metadata": {},
   "source": [
    "# 특성 추출"
   ]
  },
  {
   "cell_type": "markdown",
   "metadata": {},
   "source": [
    "### 시험 유형"
   ]
  },
  {
   "cell_type": "code",
   "execution_count": 90,
   "metadata": {
    "collapsed": true
   },
   "outputs": [],
   "source": [
    "def exam_type_memo(row):\n",
    "    text = row['text']\n",
    "    \n",
    "    if '외워야' in text:\n",
    "        return 1\n",
    "    \n",
    "    elif '외우기' in text:\n",
    "        return 1\n",
    "    \n",
    "    elif '외워서' in text:\n",
    "        start = text.find('외워서')\n",
    "        if '안' in text[start:start+10]:\n",
    "            return 0\n",
    "        else:\n",
    "            return 1\n",
    "    \n",
    "    elif '외우면' in text:\n",
    "        start = text.find('외우면')\n",
    "        if '안' in text[start:start+10]:\n",
    "            return 0\n",
    "        else:\n",
    "            return 1\n",
    "    \n",
    "    elif '암기' in text:\n",
    "        start = text.find('암기')\n",
    "        if '없' in text[start:start+10] or '안' in text[start:start+10]:\n",
    "            return 0\n",
    "        else:\n",
    "            return 1\n",
    "    else:\n",
    "        return -1"
   ]
  },
  {
   "cell_type": "code",
   "execution_count": 1197,
   "metadata": {
    "collapsed": true
   },
   "outputs": [],
   "source": [
    "total['is_memo'] = total.apply(lambda x: exam_type_memo(x), axis=1)"
   ]
  },
  {
   "cell_type": "code",
   "execution_count": 92,
   "metadata": {
    "collapsed": true
   },
   "outputs": [],
   "source": [
    "def exam_type_ess(row):\n",
    "    text = row['text']\n",
    "    \n",
    "    if '논술' in text or '글빨' in text or '필력' in text or '약술' in text or '서술' in text or '주관식' in text:\n",
    "        if row['is_memo'] == 1:\n",
    "            return 0\n",
    "        else:\n",
    "            return 1    \n",
    "    else:\n",
    "        return -1"
   ]
  },
  {
   "cell_type": "code",
   "execution_count": 1198,
   "metadata": {
    "collapsed": true
   },
   "outputs": [],
   "source": [
    "total['is_ess'] = total.apply(lambda x: exam_type_ess(x), axis=1)"
   ]
  },
  {
   "cell_type": "code",
   "execution_count": 1199,
   "metadata": {
    "collapsed": true
   },
   "outputs": [],
   "source": [
    "# 둘 중 하나라도 정보 있는데 나머지는 정보 없는 거 채워줌.\n",
    "total.loc[(total['is_memo']==-1) & (total['is_ess']==1), 'is_memo'] = 0\n",
    "total.loc[(total['is_memo']==1) & (total['is_ess']==-1), 'is_ess'] = 0"
   ]
  },
  {
   "cell_type": "code",
   "execution_count": 1200,
   "metadata": {},
   "outputs": [
    {
     "name": "stdout",
     "output_type": "stream",
     "text": [
      "22468\n"
     ]
    }
   ],
   "source": [
    "print(len(total.loc[lambda x: (x['is_memo'] == -1) & (x['is_ess'] == -1)]))"
   ]
  },
  {
   "cell_type": "markdown",
   "metadata": {},
   "source": [
    "### 레포트"
   ]
  },
  {
   "cell_type": "code",
   "execution_count": 99,
   "metadata": {
    "collapsed": true
   },
   "outputs": [],
   "source": [
    "def exi_rep(row):\n",
    "    text = row['text']\n",
    "    \n",
    "    if '레포트' in text:\n",
    "        start = text.find('레포트')\n",
    "        if '안' in text[start:start+10] or '없' in text[start:start+10]:\n",
    "            return 0\n",
    "        else:\n",
    "            return 1\n",
    "        \n",
    "    elif '보고서' in text:\n",
    "        start = text.find('보고서')\n",
    "        if '안' in text[start:start+10] or '없' in text[start:start+10]:\n",
    "            return 0\n",
    "        else:\n",
    "            return 1\n",
    "        \n",
    "    elif '레폿' in text:\n",
    "        start = text.find('레폿')\n",
    "        if '안' in text[start:start+10] or '없' in text[start:start+10]:\n",
    "            return 0\n",
    "        else:\n",
    "            return 1   \n",
    "    \n",
    "    else:\n",
    "        return -1"
   ]
  },
  {
   "cell_type": "code",
   "execution_count": 1201,
   "metadata": {
    "collapsed": true
   },
   "outputs": [],
   "source": [
    "total['is_report'] = total.apply(lambda x: exi_rep(x), axis=1)"
   ]
  },
  {
   "cell_type": "markdown",
   "metadata": {},
   "source": [
    "### 강의력"
   ]
  },
  {
   "cell_type": "code",
   "execution_count": 101,
   "metadata": {
    "collapsed": true
   },
   "outputs": [],
   "source": [
    "def lec_eval(row):\n",
    "    text = row['text']\n",
    "    \n",
    "    if '강의력' in text:\n",
    "        start = text.find('강의력')\n",
    "        \n",
    "        sen = text[start:start+20]\n",
    "        if '좋' in sen and '안' in sen: \n",
    "            return 0\n",
    "        elif '좋' in sen or '뛰' in sen or '훌륭' in sen or '최고' in sen or '굿' in sen or '쩜' in sen or '쩔' in sen or \\\n",
    "        '쩐' in sen or '오짐' in sen or '오져' in sen or '오졌' in sen or '오진' in sen or '지림' in sen or '지려' in sen or\\\n",
    "        '지린' in sen:\n",
    "            return 2\n",
    "        elif ('안' in sen and '나쁘' in sen) or ('안' in sen and '나뻐' in sen) or ('안' in sen and '나쁨' in sen):\n",
    "            return 1\n",
    "        elif '괜찮' in sen or '무난' in sen or '평범' in sen or '들을' in sen or '나쁘지' in sen or '평타' in sen:\n",
    "            return 1\n",
    "        elif '나쁘' in sen or '나뻐' in sen or '나쁨' in sen  or '별로' in sen or '망' in sen or '좆' in sen\\\n",
    "            or '딸' in sen or '쓰레기' in sen or '헬' in sen:\n",
    "            return 0\n",
    "        else:\n",
    "            return -1\n",
    "    \n",
    "    elif '강의' in text:\n",
    "        start = text.find('강의')\n",
    "        \n",
    "        sen = text[start:start+20]\n",
    "        if '잘' in sen and '못' in sen:\n",
    "            return 0\n",
    "        elif '잘' in sen:\n",
    "            return 2\n",
    "        elif '못' in sen:\n",
    "            return 0\n",
    "        else:\n",
    "            return -1\n",
    "    else:\n",
    "            return -1         "
   ]
  },
  {
   "cell_type": "code",
   "execution_count": 1354,
   "metadata": {
    "collapsed": true
   },
   "outputs": [],
   "source": [
    "total['lec_pow'] = total.apply(lambda x: lec_eval(x), axis=1)"
   ]
  },
  {
   "cell_type": "code",
   "execution_count": null,
   "metadata": {
    "collapsed": true
   },
   "outputs": [],
   "source": [
    "temp = total[['lecture_name','professor_name','semester','year','is_memo', 'is_ess', 'is_report', 'lec_pow','prof_eval_sen']]"
   ]
  },
  {
   "cell_type": "code",
   "execution_count": 120,
   "metadata": {
    "collapsed": true
   },
   "outputs": [],
   "source": [
    "def info(row):\n",
    "    return row['is_memo']+row['is_ess']+row['is_report']+row['lec_pow']"
   ]
  },
  {
   "cell_type": "code",
   "execution_count": 191,
   "metadata": {},
   "outputs": [
    {
     "name": "stderr",
     "output_type": "stream",
     "text": [
      "C:\\Users\\nhm\\Anaconda3\\lib\\site-packages\\ipykernel_launcher.py:1: SettingWithCopyWarning: \n",
      "A value is trying to be set on a copy of a slice from a DataFrame.\n",
      "Try using .loc[row_indexer,col_indexer] = value instead\n",
      "\n",
      "See the caveats in the documentation: http://pandas.pydata.org/pandas-docs/stable/indexing.html#indexing-view-versus-copy\n",
      "  \"\"\"Entry point for launching an IPython kernel.\n"
     ]
    }
   ],
   "source": [
    "temp['info'] = temp.apply(lambda x: info(x), axis=1)"
   ]
  },
  {
   "cell_type": "code",
   "execution_count": 192,
   "metadata": {
    "collapsed": true
   },
   "outputs": [],
   "source": [
    "temp = temp.loc[lambda x: x['info']!=-4]"
   ]
  },
  {
   "cell_type": "code",
   "execution_count": 1121,
   "metadata": {
    "collapsed": true
   },
   "outputs": [],
   "source": [
    "def minus_to_nan_memo(row):\n",
    "    if row['is_memo'] == -1:\n",
    "        return None\n",
    "    else:\n",
    "        return row['is_memo']"
   ]
  },
  {
   "cell_type": "code",
   "execution_count": 1122,
   "metadata": {
    "collapsed": true
   },
   "outputs": [],
   "source": [
    "def minus_to_nan_ess(row):\n",
    "    if row['is_ess'] == -1:\n",
    "        return None\n",
    "    else:\n",
    "        return row['is_ess']"
   ]
  },
  {
   "cell_type": "code",
   "execution_count": 1123,
   "metadata": {
    "collapsed": true
   },
   "outputs": [],
   "source": [
    "def minus_to_nan_rep(row):\n",
    "    if row['is_report'] == -1:\n",
    "        return None\n",
    "    else:\n",
    "        return row['is_report']"
   ]
  },
  {
   "cell_type": "code",
   "execution_count": 1124,
   "metadata": {
    "collapsed": true
   },
   "outputs": [],
   "source": [
    "def minus_to_nan_lec(row):\n",
    "    if row['lec_pow'] == -1:\n",
    "        return None\n",
    "    else:\n",
    "        return row['lec_pow']"
   ]
  },
  {
   "cell_type": "code",
   "execution_count": 1204,
   "metadata": {},
   "outputs": [
    {
     "name": "stderr",
     "output_type": "stream",
     "text": [
      "C:\\Users\\nhm\\Anaconda3\\lib\\site-packages\\ipykernel_launcher.py:1: SettingWithCopyWarning:\n",
      "\n",
      "\n",
      "A value is trying to be set on a copy of a slice from a DataFrame.\n",
      "Try using .loc[row_indexer,col_indexer] = value instead\n",
      "\n",
      "See the caveats in the documentation: http://pandas.pydata.org/pandas-docs/stable/indexing.html#indexing-view-versus-copy\n",
      "\n"
     ]
    }
   ],
   "source": [
    "temp['is_memo'] = temp.apply(lambda x: minus_to_nan_memo(x), axis=1)"
   ]
  },
  {
   "cell_type": "code",
   "execution_count": 1205,
   "metadata": {},
   "outputs": [
    {
     "name": "stderr",
     "output_type": "stream",
     "text": [
      "C:\\Users\\nhm\\Anaconda3\\lib\\site-packages\\ipykernel_launcher.py:1: SettingWithCopyWarning:\n",
      "\n",
      "\n",
      "A value is trying to be set on a copy of a slice from a DataFrame.\n",
      "Try using .loc[row_indexer,col_indexer] = value instead\n",
      "\n",
      "See the caveats in the documentation: http://pandas.pydata.org/pandas-docs/stable/indexing.html#indexing-view-versus-copy\n",
      "\n"
     ]
    }
   ],
   "source": [
    "temp['is_ess'] = temp.apply(lambda x: minus_to_nan_ess(x), axis=1)"
   ]
  },
  {
   "cell_type": "code",
   "execution_count": 1206,
   "metadata": {},
   "outputs": [
    {
     "name": "stderr",
     "output_type": "stream",
     "text": [
      "C:\\Users\\nhm\\Anaconda3\\lib\\site-packages\\ipykernel_launcher.py:1: SettingWithCopyWarning:\n",
      "\n",
      "\n",
      "A value is trying to be set on a copy of a slice from a DataFrame.\n",
      "Try using .loc[row_indexer,col_indexer] = value instead\n",
      "\n",
      "See the caveats in the documentation: http://pandas.pydata.org/pandas-docs/stable/indexing.html#indexing-view-versus-copy\n",
      "\n"
     ]
    }
   ],
   "source": [
    "temp['is_report'] = temp.apply(lambda x: minus_to_nan_rep(x), axis=1)"
   ]
  },
  {
   "cell_type": "code",
   "execution_count": 1207,
   "metadata": {},
   "outputs": [
    {
     "name": "stderr",
     "output_type": "stream",
     "text": [
      "C:\\Users\\nhm\\Anaconda3\\lib\\site-packages\\ipykernel_launcher.py:1: SettingWithCopyWarning:\n",
      "\n",
      "\n",
      "A value is trying to be set on a copy of a slice from a DataFrame.\n",
      "Try using .loc[row_indexer,col_indexer] = value instead\n",
      "\n",
      "See the caveats in the documentation: http://pandas.pydata.org/pandas-docs/stable/indexing.html#indexing-view-versus-copy\n",
      "\n"
     ]
    }
   ],
   "source": [
    "temp['lec_pow'] = temp.apply(lambda x: minus_to_nan_lec(x), axis=1)"
   ]
  },
  {
   "cell_type": "markdown",
   "metadata": {},
   "source": [
    "### 강의 평균 구하기"
   ]
  },
  {
   "cell_type": "code",
   "execution_count": 1213,
   "metadata": {
    "collapsed": true
   },
   "outputs": [],
   "source": [
    "mean = temp.groupby(['lecture_name', 'professor_name'])[['is_memo', 'is_ess', 'is_report', 'lec_pow']].mean()"
   ]
  },
  {
   "cell_type": "code",
   "execution_count": 1215,
   "metadata": {
    "collapsed": true
   },
   "outputs": [],
   "source": [
    "mean.reset_index(inplace=True,drop=False)"
   ]
  },
  {
   "cell_type": "code",
   "execution_count": 1216,
   "metadata": {
    "collapsed": true,
    "scrolled": true
   },
   "outputs": [],
   "source": [
    "mean.columns=['lecture_name','professor_name','is_memo_mean','is_ess_mean', 'is_report_mean', 'lec_pow_mean']"
   ]
  },
  {
   "cell_type": "code",
   "execution_count": 1218,
   "metadata": {
    "collapsed": true
   },
   "outputs": [],
   "source": [
    "lec_mean = pd.merge(mean, temp[['lecture_name','professor_name','prof_eval_sen']], on=['lecture_name', 'professor_name'])"
   ]
  },
  {
   "cell_type": "code",
   "execution_count": 1150,
   "metadata": {
    "collapsed": true
   },
   "outputs": [
    {
     "data": {
      "text/html": [
       "<div>\n",
       "<style>\n",
       "    .dataframe thead tr:only-child th {\n",
       "        text-align: right;\n",
       "    }\n",
       "\n",
       "    .dataframe thead th {\n",
       "        text-align: left;\n",
       "    }\n",
       "\n",
       "    .dataframe tbody tr th {\n",
       "        vertical-align: top;\n",
       "    }\n",
       "</style>\n",
       "<table border=\"1\" class=\"dataframe\">\n",
       "  <thead>\n",
       "    <tr style=\"text-align: right;\">\n",
       "      <th></th>\n",
       "      <th>lecture_name</th>\n",
       "      <th>professor_name</th>\n",
       "      <th>is_memo_mean</th>\n",
       "      <th>is_ess_mean</th>\n",
       "      <th>is_report_mean</th>\n",
       "      <th>lec_pow_mean</th>\n",
       "      <th>prof_eval_sen</th>\n",
       "    </tr>\n",
       "  </thead>\n",
       "  <tbody>\n",
       "    <tr>\n",
       "      <th>0</th>\n",
       "      <td>17세기영국시</td>\n",
       "      <td>서홍원</td>\n",
       "      <td>0.0</td>\n",
       "      <td>1.0</td>\n",
       "      <td>NaN</td>\n",
       "      <td>NaN</td>\n",
       "      <td>교수님이 설명하시고 학생들끼리 조별로 토론하고 토론한 내용 발표하는 식으로 진행되는...</td>\n",
       "    </tr>\n",
       "    <tr>\n",
       "      <th>1</th>\n",
       "      <td>19세기미국소설</td>\n",
       "      <td>양석원</td>\n",
       "      <td>NaN</td>\n",
       "      <td>NaN</td>\n",
       "      <td>1.0</td>\n",
       "      <td>2.0</td>\n",
       "      <td>교수님도 영문과에 좀 알려진 명교수님 중 하나라서 졸업 전에 들어보고 싶었다</td>\n",
       "    </tr>\n",
       "    <tr>\n",
       "      <th>2</th>\n",
       "      <td>19세기미국소설</td>\n",
       "      <td>양석원</td>\n",
       "      <td>NaN</td>\n",
       "      <td>NaN</td>\n",
       "      <td>1.0</td>\n",
       "      <td>2.0</td>\n",
       "      <td>교수님의 의견을 모두 타이핑해서 받아적은 후에 그대로 책에 넣고 복사하는 식+ 자신...</td>\n",
       "    </tr>\n",
       "    <tr>\n",
       "      <th>3</th>\n",
       "      <td>19세기미국소설</td>\n",
       "      <td>양석원</td>\n",
       "      <td>NaN</td>\n",
       "      <td>NaN</td>\n",
       "      <td>1.0</td>\n",
       "      <td>2.0</td>\n",
       "      <td>교수님이 말씀하신 내용을 잘 필기해놓고 간단한 역사적 문맥은 외워 놓으면 시험 볼 ...</td>\n",
       "    </tr>\n",
       "    <tr>\n",
       "      <th>4</th>\n",
       "      <td>19세기미국소설</td>\n",
       "      <td>양석원</td>\n",
       "      <td>NaN</td>\n",
       "      <td>NaN</td>\n",
       "      <td>1.0</td>\n",
       "      <td>2.0</td>\n",
       "      <td>교수님 똑똑하시고 쪽글 피드백도 잘해주시고 시험문제도 예상할만한 범위에서 나옴</td>\n",
       "    </tr>\n",
       "    <tr>\n",
       "      <th>5</th>\n",
       "      <td>19세기미국소설</td>\n",
       "      <td>양석원</td>\n",
       "      <td>NaN</td>\n",
       "      <td>NaN</td>\n",
       "      <td>1.0</td>\n",
       "      <td>2.0</td>\n",
       "      <td>교수님이 영문학교수님들 중에서는 강의력이 상당히 좋으신 편이신 데다가 은근 귀여우신...</td>\n",
       "    </tr>\n",
       "    <tr>\n",
       "      <th>6</th>\n",
       "      <td>20세기러시아문학</td>\n",
       "      <td>최건영</td>\n",
       "      <td>NaN</td>\n",
       "      <td>NaN</td>\n",
       "      <td>NaN</td>\n",
       "      <td>NaN</td>\n",
       "      <td>교수님도 좀 웃기심 ㅎㅎㅎ 근데이제 수업 잘 안하실거라고 하셨음 ㅠ\\n시험없고 책읽...</td>\n",
       "    </tr>\n",
       "    <tr>\n",
       "      <th>7</th>\n",
       "      <td>20세기러시아문학</td>\n",
       "      <td>최건영</td>\n",
       "      <td>NaN</td>\n",
       "      <td>NaN</td>\n",
       "      <td>NaN</td>\n",
       "      <td>NaN</td>\n",
       "      <td></td>\n",
       "    </tr>\n",
       "    <tr>\n",
       "      <th>8</th>\n",
       "      <td>20세기미국소설</td>\n",
       "      <td>문상영</td>\n",
       "      <td>0.0</td>\n",
       "      <td>1.0</td>\n",
       "      <td>1.0</td>\n",
       "      <td>NaN</td>\n",
       "      <td></td>\n",
       "    </tr>\n",
       "    <tr>\n",
       "      <th>9</th>\n",
       "      <td>20세기미국소설</td>\n",
       "      <td>이광진</td>\n",
       "      <td>NaN</td>\n",
       "      <td>NaN</td>\n",
       "      <td>NaN</td>\n",
       "      <td>NaN</td>\n",
       "      <td></td>\n",
       "    </tr>\n",
       "    <tr>\n",
       "      <th>10</th>\n",
       "      <td>20세기영시</td>\n",
       "      <td>김준환</td>\n",
       "      <td>NaN</td>\n",
       "      <td>NaN</td>\n",
       "      <td>NaN</td>\n",
       "      <td>NaN</td>\n",
       "      <td>교수님 사람이 너무 좋아요</td>\n",
       "    </tr>\n",
       "    <tr>\n",
       "      <th>11</th>\n",
       "      <td>20세기영시</td>\n",
       "      <td>김준환</td>\n",
       "      <td>NaN</td>\n",
       "      <td>NaN</td>\n",
       "      <td>NaN</td>\n",
       "      <td>NaN</td>\n",
       "      <td>교수님이 조금 설명과 코멘트해주시는 방식으로 진행되거든요!\\n시라는게 답이 정해지지...</td>\n",
       "    </tr>\n",
       "    <tr>\n",
       "      <th>12</th>\n",
       "      <td>20세기영시</td>\n",
       "      <td>김준환</td>\n",
       "      <td>NaN</td>\n",
       "      <td>NaN</td>\n",
       "      <td>NaN</td>\n",
       "      <td>NaN</td>\n",
       "      <td>교수님 정말정말 좋아서 강의 다 들었는데 실라버스가 빡세서인지 맨날 잔여석 미친듯이...</td>\n",
       "    </tr>\n",
       "    <tr>\n",
       "      <th>13</th>\n",
       "      <td>20세기영시</td>\n",
       "      <td>김준환</td>\n",
       "      <td>NaN</td>\n",
       "      <td>NaN</td>\n",
       "      <td>NaN</td>\n",
       "      <td>NaN</td>\n",
       "      <td></td>\n",
       "    </tr>\n",
       "    <tr>\n",
       "      <th>14</th>\n",
       "      <td>20세기현대지성인사</td>\n",
       "      <td>박승한,조주관,정진배,최유찬,이경원,문창옥,이기언,유현주,조숙환,박영도,강소영</td>\n",
       "      <td>NaN</td>\n",
       "      <td>NaN</td>\n",
       "      <td>NaN</td>\n",
       "      <td>NaN</td>\n",
       "      <td>교수님들이 돌아가면서 가르침</td>\n",
       "    </tr>\n",
       "    <tr>\n",
       "      <th>15</th>\n",
       "      <td>21C기술경영</td>\n",
       "      <td>손봉수</td>\n",
       "      <td>0.0</td>\n",
       "      <td>1.0</td>\n",
       "      <td>1.0</td>\n",
       "      <td>NaN</td>\n",
       "      <td></td>\n",
       "    </tr>\n",
       "    <tr>\n",
       "      <th>16</th>\n",
       "      <td>21C기술경영</td>\n",
       "      <td>손봉수</td>\n",
       "      <td>0.0</td>\n",
       "      <td>1.0</td>\n",
       "      <td>1.0</td>\n",
       "      <td>NaN</td>\n",
       "      <td>교수 바뀐뒤로 뭐 하나 제대로 주는 학점이 없음 ㄹㅇ 숙제</td>\n",
       "    </tr>\n",
       "    <tr>\n",
       "      <th>17</th>\n",
       "      <td>ABNORMAL PSYCHOLOGY</td>\n",
       "      <td>박수현</td>\n",
       "      <td>NaN</td>\n",
       "      <td>NaN</td>\n",
       "      <td>NaN</td>\n",
       "      <td>NaN</td>\n",
       "      <td>교수님 사람 좋으시고 강의 열심히하시고 수업도 배우는거 많아요 수업방식이 그냥 매주...</td>\n",
       "    </tr>\n",
       "    <tr>\n",
       "      <th>18</th>\n",
       "      <td>ADVANCED BIOLOGY  &amp; EXPERIMENTS</td>\n",
       "      <td>박돈하</td>\n",
       "      <td>NaN</td>\n",
       "      <td>NaN</td>\n",
       "      <td>NaN</td>\n",
       "      <td>NaN</td>\n",
       "      <td></td>\n",
       "    </tr>\n",
       "    <tr>\n",
       "      <th>19</th>\n",
       "      <td>ADVANCED CHEMISTRY &amp; EXPERIMENTS</td>\n",
       "      <td>조현모</td>\n",
       "      <td>NaN</td>\n",
       "      <td>NaN</td>\n",
       "      <td>NaN</td>\n",
       "      <td>NaN</td>\n",
       "      <td>교수님들의 요청으로 일반화학 뒷부분 전반을 배운 것이 아니라 유기화학의 기초적 내용...</td>\n",
       "    </tr>\n",
       "    <tr>\n",
       "      <th>20</th>\n",
       "      <td>ADVANCED DEBATE WORKSHOP</td>\n",
       "      <td>통스폴</td>\n",
       "      <td>NaN</td>\n",
       "      <td>NaN</td>\n",
       "      <td>NaN</td>\n",
       "      <td>NaN</td>\n",
       "      <td>교수님이 원하시는 것도 너무 뚜렷하시고 학기 내내 디베이트준비패가고 주1회 토론해야...</td>\n",
       "    </tr>\n",
       "    <tr>\n",
       "      <th>21</th>\n",
       "      <td>ADVANCED JAPANESE (1)</td>\n",
       "      <td>김애자</td>\n",
       "      <td>NaN</td>\n",
       "      <td>NaN</td>\n",
       "      <td>NaN</td>\n",
       "      <td>NaN</td>\n",
       "      <td>교수님은 친절하고 사정 잘 봐주시고 차분하게 지도해주시는 편</td>\n",
       "    </tr>\n",
       "    <tr>\n",
       "      <th>22</th>\n",
       "      <td>ADVANCED JAPANESE (2)</td>\n",
       "      <td>미무라노리아끼</td>\n",
       "      <td>NaN</td>\n",
       "      <td>NaN</td>\n",
       "      <td>NaN</td>\n",
       "      <td>NaN</td>\n",
       "      <td>교수님의 Adv Jap (1) 보다 수준이 더 낮은 강의이다</td>\n",
       "    </tr>\n",
       "    <tr>\n",
       "      <th>23</th>\n",
       "      <td>AMERICA AND THE WORLD</td>\n",
       "      <td>봉영식</td>\n",
       "      <td>NaN</td>\n",
       "      <td>NaN</td>\n",
       "      <td>NaN</td>\n",
       "      <td>NaN</td>\n",
       "      <td>교수님들중에서  김정교수님과 강의력 탑2에 드는  교수님</td>\n",
       "    </tr>\n",
       "    <tr>\n",
       "      <th>24</th>\n",
       "      <td>AS LHP: CAPITALISM AND ITS CRITICS; KOREA 1920...</td>\n",
       "      <td>임흥순</td>\n",
       "      <td>NaN</td>\n",
       "      <td>NaN</td>\n",
       "      <td>NaN</td>\n",
       "      <td>NaN</td>\n",
       "      <td></td>\n",
       "    </tr>\n",
       "    <tr>\n",
       "      <th>25</th>\n",
       "      <td>AS LHP: CAPITALISM AND ITS CRITICS; KOREA 1920...</td>\n",
       "      <td>임흥순</td>\n",
       "      <td>NaN</td>\n",
       "      <td>NaN</td>\n",
       "      <td>NaN</td>\n",
       "      <td>NaN</td>\n",
       "      <td>교수님과 정치적 생각을 같이 한다면 정말 좋은 수업이다</td>\n",
       "    </tr>\n",
       "    <tr>\n",
       "      <th>26</th>\n",
       "      <td>AS LHP: COLD WAR IN EAST ASIA</td>\n",
       "      <td>임흥순</td>\n",
       "      <td>NaN</td>\n",
       "      <td>NaN</td>\n",
       "      <td>NaN</td>\n",
       "      <td>NaN</td>\n",
       "      <td>교수님이 생각해오시고 학생들과 논의도 하십니다</td>\n",
       "    </tr>\n",
       "    <tr>\n",
       "      <th>27</th>\n",
       "      <td>AS LHP: CULTURES OF GLOBALIZATION IN CHINA</td>\n",
       "      <td>웡앨빈카힌</td>\n",
       "      <td>NaN</td>\n",
       "      <td>NaN</td>\n",
       "      <td>NaN</td>\n",
       "      <td>NaN</td>\n",
       "      <td></td>\n",
       "    </tr>\n",
       "    <tr>\n",
       "      <th>28</th>\n",
       "      <td>AS LHP: CULTURES OF GLOBALIZATION IN CHINA</td>\n",
       "      <td>웡앨빈카힌</td>\n",
       "      <td>NaN</td>\n",
       "      <td>NaN</td>\n",
       "      <td>NaN</td>\n",
       "      <td>NaN</td>\n",
       "      <td>교수님 자체는 착하세요</td>\n",
       "    </tr>\n",
       "    <tr>\n",
       "      <th>29</th>\n",
       "      <td>AS LHP: RACE AND VIOLENCE IN MODERN JAPAN</td>\n",
       "      <td>세토토모코</td>\n",
       "      <td>NaN</td>\n",
       "      <td>NaN</td>\n",
       "      <td>NaN</td>\n",
       "      <td>NaN</td>\n",
       "      <td></td>\n",
       "    </tr>\n",
       "    <tr>\n",
       "      <th>...</th>\n",
       "      <td>...</td>\n",
       "      <td>...</td>\n",
       "      <td>...</td>\n",
       "      <td>...</td>\n",
       "      <td>...</td>\n",
       "      <td>...</td>\n",
       "      <td>...</td>\n",
       "    </tr>\n",
       "    <tr>\n",
       "      <th>14007</th>\n",
       "      <td>회계원리(2)</td>\n",
       "      <td>윤대희</td>\n",
       "      <td>NaN</td>\n",
       "      <td>NaN</td>\n",
       "      <td>1.0</td>\n",
       "      <td>2.0</td>\n",
       "      <td>교수님 정말 강의력 좋으시고 멋지십니다</td>\n",
       "    </tr>\n",
       "    <tr>\n",
       "      <th>14008</th>\n",
       "      <td>회계원리(2)</td>\n",
       "      <td>윤대희</td>\n",
       "      <td>NaN</td>\n",
       "      <td>NaN</td>\n",
       "      <td>1.0</td>\n",
       "      <td>2.0</td>\n",
       "      <td>교수님의 질문에 어버버 헛소리로 대답했더라도\\n시험 직전에 몇일 냅다 파면 만족하는...</td>\n",
       "    </tr>\n",
       "    <tr>\n",
       "      <th>14009</th>\n",
       "      <td>회계원리(2)</td>\n",
       "      <td>윤대희</td>\n",
       "      <td>NaN</td>\n",
       "      <td>NaN</td>\n",
       "      <td>1.0</td>\n",
       "      <td>2.0</td>\n",
       "      <td></td>\n",
       "    </tr>\n",
       "    <tr>\n",
       "      <th>14010</th>\n",
       "      <td>회계원리(2)</td>\n",
       "      <td>윤대희</td>\n",
       "      <td>NaN</td>\n",
       "      <td>NaN</td>\n",
       "      <td>1.0</td>\n",
       "      <td>2.0</td>\n",
       "      <td></td>\n",
       "    </tr>\n",
       "    <tr>\n",
       "      <th>14011</th>\n",
       "      <td>회계원리(2)</td>\n",
       "      <td>윤대희</td>\n",
       "      <td>NaN</td>\n",
       "      <td>NaN</td>\n",
       "      <td>1.0</td>\n",
       "      <td>2.0</td>\n",
       "      <td>교수님을 추천합니다</td>\n",
       "    </tr>\n",
       "    <tr>\n",
       "      <th>14012</th>\n",
       "      <td>회계원리(2)</td>\n",
       "      <td>윤대희</td>\n",
       "      <td>NaN</td>\n",
       "      <td>NaN</td>\n",
       "      <td>1.0</td>\n",
       "      <td>2.0</td>\n",
       "      <td>교수님 오피스아워때마다 질문다받아주시고 진로에대해서도 선배로서 조언많이해주시고 레포...</td>\n",
       "    </tr>\n",
       "    <tr>\n",
       "      <th>14013</th>\n",
       "      <td>회계원리(2)</td>\n",
       "      <td>윤대희</td>\n",
       "      <td>NaN</td>\n",
       "      <td>NaN</td>\n",
       "      <td>1.0</td>\n",
       "      <td>2.0</td>\n",
       "      <td>교수님의 영어, 좋은 강의력 적당한 과제량과 시험 난이도 이 모든 것을 합해 최고의...</td>\n",
       "    </tr>\n",
       "    <tr>\n",
       "      <th>14014</th>\n",
       "      <td>회계원리(2)</td>\n",
       "      <td>윤대희</td>\n",
       "      <td>NaN</td>\n",
       "      <td>NaN</td>\n",
       "      <td>1.0</td>\n",
       "      <td>2.0</td>\n",
       "      <td>교수님을 수업을 들었다</td>\n",
       "    </tr>\n",
       "    <tr>\n",
       "      <th>14015</th>\n",
       "      <td>회계원리(2)</td>\n",
       "      <td>윤대희</td>\n",
       "      <td>NaN</td>\n",
       "      <td>NaN</td>\n",
       "      <td>1.0</td>\n",
       "      <td>2.0</td>\n",
       "      <td>교수님 영어로 강의하시면서 한국어로 다시 설명해주심</td>\n",
       "    </tr>\n",
       "    <tr>\n",
       "      <th>14016</th>\n",
       "      <td>회계원리(2)</td>\n",
       "      <td>윤대희</td>\n",
       "      <td>NaN</td>\n",
       "      <td>NaN</td>\n",
       "      <td>1.0</td>\n",
       "      <td>2.0</td>\n",
       "      <td></td>\n",
       "    </tr>\n",
       "    <tr>\n",
       "      <th>14017</th>\n",
       "      <td>회계원리(2)</td>\n",
       "      <td>이재홍</td>\n",
       "      <td>0.0</td>\n",
       "      <td>1.0</td>\n",
       "      <td>NaN</td>\n",
       "      <td>NaN</td>\n",
       "      <td>교수만 피하면 평타는 간다는 우리학교 회계강의 중에서 그나마 한줄기 빛</td>\n",
       "    </tr>\n",
       "    <tr>\n",
       "      <th>14018</th>\n",
       "      <td>회귀분석</td>\n",
       "      <td>김현태</td>\n",
       "      <td>1.0</td>\n",
       "      <td>0.0</td>\n",
       "      <td>NaN</td>\n",
       "      <td>NaN</td>\n",
       "      <td></td>\n",
       "    </tr>\n",
       "    <tr>\n",
       "      <th>14019</th>\n",
       "      <td>회귀분석</td>\n",
       "      <td>김현태</td>\n",
       "      <td>1.0</td>\n",
       "      <td>0.0</td>\n",
       "      <td>NaN</td>\n",
       "      <td>NaN</td>\n",
       "      <td>교수님 ppt로 수업하시는데, 별도로 필기해주시는 부분들이 많습니다</td>\n",
       "    </tr>\n",
       "    <tr>\n",
       "      <th>14020</th>\n",
       "      <td>회귀분석</td>\n",
       "      <td>김현태</td>\n",
       "      <td>1.0</td>\n",
       "      <td>0.0</td>\n",
       "      <td>NaN</td>\n",
       "      <td>NaN</td>\n",
       "      <td>교수님 들어보고싶다</td>\n",
       "    </tr>\n",
       "    <tr>\n",
       "      <th>14021</th>\n",
       "      <td>회귀분석</td>\n",
       "      <td>김현태</td>\n",
       "      <td>1.0</td>\n",
       "      <td>0.0</td>\n",
       "      <td>NaN</td>\n",
       "      <td>NaN</td>\n",
       "      <td>교수님께서 영강임에도 불구하고 상평과 비슷한 수준으로 주겠다고 말씀하셨으나\\n소문에...</td>\n",
       "    </tr>\n",
       "    <tr>\n",
       "      <th>14022</th>\n",
       "      <td>회귀분석</td>\n",
       "      <td>김현태</td>\n",
       "      <td>1.0</td>\n",
       "      <td>0.0</td>\n",
       "      <td>NaN</td>\n",
       "      <td>NaN</td>\n",
       "      <td>교수님은 좋으신데 과목 자체의 난이도가</td>\n",
       "    </tr>\n",
       "    <tr>\n",
       "      <th>14023</th>\n",
       "      <td>회귀분석</td>\n",
       "      <td>전용호</td>\n",
       "      <td>NaN</td>\n",
       "      <td>NaN</td>\n",
       "      <td>NaN</td>\n",
       "      <td>NaN</td>\n",
       "      <td>교수님도 학생들 이해시키기 버거워했고 수업 막바지에 가르친거라 거의 포기하다시피 공...</td>\n",
       "    </tr>\n",
       "    <tr>\n",
       "      <th>14024</th>\n",
       "      <td>회귀분석</td>\n",
       "      <td>전용호</td>\n",
       "      <td>NaN</td>\n",
       "      <td>NaN</td>\n",
       "      <td>NaN</td>\n",
       "      <td>NaN</td>\n",
       "      <td></td>\n",
       "    </tr>\n",
       "    <tr>\n",
       "      <th>14025</th>\n",
       "      <td>회귀분석</td>\n",
       "      <td>전용호</td>\n",
       "      <td>NaN</td>\n",
       "      <td>NaN</td>\n",
       "      <td>NaN</td>\n",
       "      <td>NaN</td>\n",
       "      <td></td>\n",
       "    </tr>\n",
       "    <tr>\n",
       "      <th>14026</th>\n",
       "      <td>회귀분석</td>\n",
       "      <td>전용호</td>\n",
       "      <td>NaN</td>\n",
       "      <td>NaN</td>\n",
       "      <td>NaN</td>\n",
       "      <td>NaN</td>\n",
       "      <td>교수님이 매년 문제를 조금씩만 수정하시는듯함</td>\n",
       "    </tr>\n",
       "    <tr>\n",
       "      <th>14027</th>\n",
       "      <td>회로와전자기응용</td>\n",
       "      <td>김용준,한재원</td>\n",
       "      <td>1.0</td>\n",
       "      <td>0.0</td>\n",
       "      <td>NaN</td>\n",
       "      <td>2.0</td>\n",
       "      <td></td>\n",
       "    </tr>\n",
       "    <tr>\n",
       "      <th>14028</th>\n",
       "      <td>회로와전자기응용</td>\n",
       "      <td>김용준,한재원</td>\n",
       "      <td>1.0</td>\n",
       "      <td>0.0</td>\n",
       "      <td>NaN</td>\n",
       "      <td>2.0</td>\n",
       "      <td></td>\n",
       "    </tr>\n",
       "    <tr>\n",
       "      <th>14029</th>\n",
       "      <td>회로와전자기응용</td>\n",
       "      <td>김용준,한재원</td>\n",
       "      <td>1.0</td>\n",
       "      <td>0.0</td>\n",
       "      <td>NaN</td>\n",
       "      <td>2.0</td>\n",
       "      <td>교수님 강의는 평탄했고, 김용준 교수님 강의는 꽤 좋았습니다</td>\n",
       "    </tr>\n",
       "    <tr>\n",
       "      <th>14030</th>\n",
       "      <td>회로와전자기응용</td>\n",
       "      <td>김용준,한재원</td>\n",
       "      <td>1.0</td>\n",
       "      <td>0.0</td>\n",
       "      <td>NaN</td>\n",
       "      <td>2.0</td>\n",
       "      <td></td>\n",
       "    </tr>\n",
       "    <tr>\n",
       "      <th>14031</th>\n",
       "      <td>회사법</td>\n",
       "      <td>심영</td>\n",
       "      <td>0.5</td>\n",
       "      <td>0.5</td>\n",
       "      <td>NaN</td>\n",
       "      <td>2.0</td>\n",
       "      <td></td>\n",
       "    </tr>\n",
       "    <tr>\n",
       "      <th>14032</th>\n",
       "      <td>회사법</td>\n",
       "      <td>심영</td>\n",
       "      <td>0.5</td>\n",
       "      <td>0.5</td>\n",
       "      <td>NaN</td>\n",
       "      <td>2.0</td>\n",
       "      <td>교수님 강의력은 좋으신 것 같다</td>\n",
       "    </tr>\n",
       "    <tr>\n",
       "      <th>14033</th>\n",
       "      <td>회사법</td>\n",
       "      <td>심영</td>\n",
       "      <td>0.5</td>\n",
       "      <td>0.5</td>\n",
       "      <td>NaN</td>\n",
       "      <td>2.0</td>\n",
       "      <td></td>\n",
       "    </tr>\n",
       "    <tr>\n",
       "      <th>14034</th>\n",
       "      <td>회사법</td>\n",
       "      <td>심영</td>\n",
       "      <td>0.5</td>\n",
       "      <td>0.5</td>\n",
       "      <td>NaN</td>\n",
       "      <td>2.0</td>\n",
       "      <td>교수님이 매우 이해하기 쉽게 설명해주시는 점이 좋았음</td>\n",
       "    </tr>\n",
       "    <tr>\n",
       "      <th>14035</th>\n",
       "      <td>회사법</td>\n",
       "      <td>황운경</td>\n",
       "      <td>1.0</td>\n",
       "      <td>0.0</td>\n",
       "      <td>NaN</td>\n",
       "      <td>NaN</td>\n",
       "      <td>교수님이 현직자랑 만나셨을 때 이야기를 종종 해주시는데 그것도 진짜 재밌습니다</td>\n",
       "    </tr>\n",
       "    <tr>\n",
       "      <th>14036</th>\n",
       "      <td>힙합댄스</td>\n",
       "      <td>정유미</td>\n",
       "      <td>NaN</td>\n",
       "      <td>NaN</td>\n",
       "      <td>NaN</td>\n",
       "      <td>NaN</td>\n",
       "      <td>교수님 잘추는 편인지도 모르겠음</td>\n",
       "    </tr>\n",
       "  </tbody>\n",
       "</table>\n",
       "<p>14037 rows × 7 columns</p>\n",
       "</div>"
      ],
      "text/plain": [
       "                                            lecture_name  \\\n",
       "0                                                17세기영국시   \n",
       "1                                               19세기미국소설   \n",
       "2                                               19세기미국소설   \n",
       "3                                               19세기미국소설   \n",
       "4                                               19세기미국소설   \n",
       "5                                               19세기미국소설   \n",
       "6                                              20세기러시아문학   \n",
       "7                                              20세기러시아문학   \n",
       "8                                               20세기미국소설   \n",
       "9                                               20세기미국소설   \n",
       "10                                                20세기영시   \n",
       "11                                                20세기영시   \n",
       "12                                                20세기영시   \n",
       "13                                                20세기영시   \n",
       "14                                            20세기현대지성인사   \n",
       "15                                               21C기술경영   \n",
       "16                                               21C기술경영   \n",
       "17                                   ABNORMAL PSYCHOLOGY   \n",
       "18                       ADVANCED BIOLOGY  & EXPERIMENTS   \n",
       "19                      ADVANCED CHEMISTRY & EXPERIMENTS   \n",
       "20                              ADVANCED DEBATE WORKSHOP   \n",
       "21                                 ADVANCED JAPANESE (1)   \n",
       "22                                 ADVANCED JAPANESE (2)   \n",
       "23                                 AMERICA AND THE WORLD   \n",
       "24     AS LHP: CAPITALISM AND ITS CRITICS; KOREA 1920...   \n",
       "25     AS LHP: CAPITALISM AND ITS CRITICS; KOREA 1920...   \n",
       "26                         AS LHP: COLD WAR IN EAST ASIA   \n",
       "27            AS LHP: CULTURES OF GLOBALIZATION IN CHINA   \n",
       "28            AS LHP: CULTURES OF GLOBALIZATION IN CHINA   \n",
       "29             AS LHP: RACE AND VIOLENCE IN MODERN JAPAN   \n",
       "...                                                  ...   \n",
       "14007                                            회계원리(2)   \n",
       "14008                                            회계원리(2)   \n",
       "14009                                            회계원리(2)   \n",
       "14010                                            회계원리(2)   \n",
       "14011                                            회계원리(2)   \n",
       "14012                                            회계원리(2)   \n",
       "14013                                            회계원리(2)   \n",
       "14014                                            회계원리(2)   \n",
       "14015                                            회계원리(2)   \n",
       "14016                                            회계원리(2)   \n",
       "14017                                            회계원리(2)   \n",
       "14018                                               회귀분석   \n",
       "14019                                               회귀분석   \n",
       "14020                                               회귀분석   \n",
       "14021                                               회귀분석   \n",
       "14022                                               회귀분석   \n",
       "14023                                               회귀분석   \n",
       "14024                                               회귀분석   \n",
       "14025                                               회귀분석   \n",
       "14026                                               회귀분석   \n",
       "14027                                           회로와전자기응용   \n",
       "14028                                           회로와전자기응용   \n",
       "14029                                           회로와전자기응용   \n",
       "14030                                           회로와전자기응용   \n",
       "14031                                                회사법   \n",
       "14032                                                회사법   \n",
       "14033                                                회사법   \n",
       "14034                                                회사법   \n",
       "14035                                                회사법   \n",
       "14036                                               힙합댄스   \n",
       "\n",
       "                                    professor_name  is_memo_mean  is_ess_mean  \\\n",
       "0                                              서홍원           0.0          1.0   \n",
       "1                                              양석원           NaN          NaN   \n",
       "2                                              양석원           NaN          NaN   \n",
       "3                                              양석원           NaN          NaN   \n",
       "4                                              양석원           NaN          NaN   \n",
       "5                                              양석원           NaN          NaN   \n",
       "6                                              최건영           NaN          NaN   \n",
       "7                                              최건영           NaN          NaN   \n",
       "8                                              문상영           0.0          1.0   \n",
       "9                                              이광진           NaN          NaN   \n",
       "10                                             김준환           NaN          NaN   \n",
       "11                                             김준환           NaN          NaN   \n",
       "12                                             김준환           NaN          NaN   \n",
       "13                                             김준환           NaN          NaN   \n",
       "14     박승한,조주관,정진배,최유찬,이경원,문창옥,이기언,유현주,조숙환,박영도,강소영           NaN          NaN   \n",
       "15                                             손봉수           0.0          1.0   \n",
       "16                                             손봉수           0.0          1.0   \n",
       "17                                             박수현           NaN          NaN   \n",
       "18                                             박돈하           NaN          NaN   \n",
       "19                                             조현모           NaN          NaN   \n",
       "20                                             통스폴           NaN          NaN   \n",
       "21                                             김애자           NaN          NaN   \n",
       "22                                         미무라노리아끼           NaN          NaN   \n",
       "23                                             봉영식           NaN          NaN   \n",
       "24                                             임흥순           NaN          NaN   \n",
       "25                                             임흥순           NaN          NaN   \n",
       "26                                             임흥순           NaN          NaN   \n",
       "27                                           웡앨빈카힌           NaN          NaN   \n",
       "28                                           웡앨빈카힌           NaN          NaN   \n",
       "29                                           세토토모코           NaN          NaN   \n",
       "...                                            ...           ...          ...   \n",
       "14007                                          윤대희           NaN          NaN   \n",
       "14008                                          윤대희           NaN          NaN   \n",
       "14009                                          윤대희           NaN          NaN   \n",
       "14010                                          윤대희           NaN          NaN   \n",
       "14011                                          윤대희           NaN          NaN   \n",
       "14012                                          윤대희           NaN          NaN   \n",
       "14013                                          윤대희           NaN          NaN   \n",
       "14014                                          윤대희           NaN          NaN   \n",
       "14015                                          윤대희           NaN          NaN   \n",
       "14016                                          윤대희           NaN          NaN   \n",
       "14017                                          이재홍           0.0          1.0   \n",
       "14018                                          김현태           1.0          0.0   \n",
       "14019                                          김현태           1.0          0.0   \n",
       "14020                                          김현태           1.0          0.0   \n",
       "14021                                          김현태           1.0          0.0   \n",
       "14022                                          김현태           1.0          0.0   \n",
       "14023                                          전용호           NaN          NaN   \n",
       "14024                                          전용호           NaN          NaN   \n",
       "14025                                          전용호           NaN          NaN   \n",
       "14026                                          전용호           NaN          NaN   \n",
       "14027                                      김용준,한재원           1.0          0.0   \n",
       "14028                                      김용준,한재원           1.0          0.0   \n",
       "14029                                      김용준,한재원           1.0          0.0   \n",
       "14030                                      김용준,한재원           1.0          0.0   \n",
       "14031                                           심영           0.5          0.5   \n",
       "14032                                           심영           0.5          0.5   \n",
       "14033                                           심영           0.5          0.5   \n",
       "14034                                           심영           0.5          0.5   \n",
       "14035                                          황운경           1.0          0.0   \n",
       "14036                                          정유미           NaN          NaN   \n",
       "\n",
       "       is_report_mean  lec_pow_mean  \\\n",
       "0                 NaN           NaN   \n",
       "1                 1.0           2.0   \n",
       "2                 1.0           2.0   \n",
       "3                 1.0           2.0   \n",
       "4                 1.0           2.0   \n",
       "5                 1.0           2.0   \n",
       "6                 NaN           NaN   \n",
       "7                 NaN           NaN   \n",
       "8                 1.0           NaN   \n",
       "9                 NaN           NaN   \n",
       "10                NaN           NaN   \n",
       "11                NaN           NaN   \n",
       "12                NaN           NaN   \n",
       "13                NaN           NaN   \n",
       "14                NaN           NaN   \n",
       "15                1.0           NaN   \n",
       "16                1.0           NaN   \n",
       "17                NaN           NaN   \n",
       "18                NaN           NaN   \n",
       "19                NaN           NaN   \n",
       "20                NaN           NaN   \n",
       "21                NaN           NaN   \n",
       "22                NaN           NaN   \n",
       "23                NaN           NaN   \n",
       "24                NaN           NaN   \n",
       "25                NaN           NaN   \n",
       "26                NaN           NaN   \n",
       "27                NaN           NaN   \n",
       "28                NaN           NaN   \n",
       "29                NaN           NaN   \n",
       "...               ...           ...   \n",
       "14007             1.0           2.0   \n",
       "14008             1.0           2.0   \n",
       "14009             1.0           2.0   \n",
       "14010             1.0           2.0   \n",
       "14011             1.0           2.0   \n",
       "14012             1.0           2.0   \n",
       "14013             1.0           2.0   \n",
       "14014             1.0           2.0   \n",
       "14015             1.0           2.0   \n",
       "14016             1.0           2.0   \n",
       "14017             NaN           NaN   \n",
       "14018             NaN           NaN   \n",
       "14019             NaN           NaN   \n",
       "14020             NaN           NaN   \n",
       "14021             NaN           NaN   \n",
       "14022             NaN           NaN   \n",
       "14023             NaN           NaN   \n",
       "14024             NaN           NaN   \n",
       "14025             NaN           NaN   \n",
       "14026             NaN           NaN   \n",
       "14027             NaN           2.0   \n",
       "14028             NaN           2.0   \n",
       "14029             NaN           2.0   \n",
       "14030             NaN           2.0   \n",
       "14031             NaN           2.0   \n",
       "14032             NaN           2.0   \n",
       "14033             NaN           2.0   \n",
       "14034             NaN           2.0   \n",
       "14035             NaN           NaN   \n",
       "14036             NaN           NaN   \n",
       "\n",
       "                                           prof_eval_sen  \n",
       "0      교수님이 설명하시고 학생들끼리 조별로 토론하고 토론한 내용 발표하는 식으로 진행되는...  \n",
       "1             교수님도 영문과에 좀 알려진 명교수님 중 하나라서 졸업 전에 들어보고 싶었다  \n",
       "2      교수님의 의견을 모두 타이핑해서 받아적은 후에 그대로 책에 넣고 복사하는 식+ 자신...  \n",
       "3      교수님이 말씀하신 내용을 잘 필기해놓고 간단한 역사적 문맥은 외워 놓으면 시험 볼 ...  \n",
       "4            교수님 똑똑하시고 쪽글 피드백도 잘해주시고 시험문제도 예상할만한 범위에서 나옴  \n",
       "5      교수님이 영문학교수님들 중에서는 강의력이 상당히 좋으신 편이신 데다가 은근 귀여우신...  \n",
       "6      교수님도 좀 웃기심 ㅎㅎㅎ 근데이제 수업 잘 안하실거라고 하셨음 ㅠ\\n시험없고 책읽...  \n",
       "7                                                         \n",
       "8                                                         \n",
       "9                                                         \n",
       "10                                        교수님 사람이 너무 좋아요  \n",
       "11     교수님이 조금 설명과 코멘트해주시는 방식으로 진행되거든요!\\n시라는게 답이 정해지지...  \n",
       "12     교수님 정말정말 좋아서 강의 다 들었는데 실라버스가 빡세서인지 맨날 잔여석 미친듯이...  \n",
       "13                                                        \n",
       "14                                       교수님들이 돌아가면서 가르침  \n",
       "15                                                        \n",
       "16                     교수 바뀐뒤로 뭐 하나 제대로 주는 학점이 없음 ㄹㅇ 숙제   \n",
       "17     교수님 사람 좋으시고 강의 열심히하시고 수업도 배우는거 많아요 수업방식이 그냥 매주...  \n",
       "18                                                        \n",
       "19     교수님들의 요청으로 일반화학 뒷부분 전반을 배운 것이 아니라 유기화학의 기초적 내용...  \n",
       "20     교수님이 원하시는 것도 너무 뚜렷하시고 학기 내내 디베이트준비패가고 주1회 토론해야...  \n",
       "21                     교수님은 친절하고 사정 잘 봐주시고 차분하게 지도해주시는 편  \n",
       "22                     교수님의 Adv Jap (1) 보다 수준이 더 낮은 강의이다  \n",
       "23                       교수님들중에서  김정교수님과 강의력 탑2에 드는  교수님  \n",
       "24                                                        \n",
       "25                        교수님과 정치적 생각을 같이 한다면 정말 좋은 수업이다  \n",
       "26                             교수님이 생각해오시고 학생들과 논의도 하십니다  \n",
       "27                                                        \n",
       "28                                          교수님 자체는 착하세요  \n",
       "29                                                        \n",
       "...                                                  ...  \n",
       "14007                              교수님 정말 강의력 좋으시고 멋지십니다  \n",
       "14008  교수님의 질문에 어버버 헛소리로 대답했더라도\\n시험 직전에 몇일 냅다 파면 만족하는...  \n",
       "14009                                                     \n",
       "14010                                                     \n",
       "14011                                         교수님을 추천합니다  \n",
       "14012  교수님 오피스아워때마다 질문다받아주시고 진로에대해서도 선배로서 조언많이해주시고 레포...  \n",
       "14013  교수님의 영어, 좋은 강의력 적당한 과제량과 시험 난이도 이 모든 것을 합해 최고의...  \n",
       "14014                                       교수님을 수업을 들었다  \n",
       "14015                       교수님 영어로 강의하시면서 한국어로 다시 설명해주심  \n",
       "14016                                                     \n",
       "14017            교수만 피하면 평타는 간다는 우리학교 회계강의 중에서 그나마 한줄기 빛  \n",
       "14018                                                     \n",
       "14019              교수님 ppt로 수업하시는데, 별도로 필기해주시는 부분들이 많습니다  \n",
       "14020                                         교수님 들어보고싶다  \n",
       "14021  교수님께서 영강임에도 불구하고 상평과 비슷한 수준으로 주겠다고 말씀하셨으나\\n소문에...  \n",
       "14022                              교수님은 좋으신데 과목 자체의 난이도가  \n",
       "14023  교수님도 학생들 이해시키기 버거워했고 수업 막바지에 가르친거라 거의 포기하다시피 공...  \n",
       "14024                                                     \n",
       "14025                                                     \n",
       "14026                           교수님이 매년 문제를 조금씩만 수정하시는듯함  \n",
       "14027                                                     \n",
       "14028                                                     \n",
       "14029                  교수님 강의는 평탄했고, 김용준 교수님 강의는 꽤 좋았습니다  \n",
       "14030                                                     \n",
       "14031                                                     \n",
       "14032                                  교수님 강의력은 좋으신 것 같다  \n",
       "14033                                                     \n",
       "14034                      교수님이 매우 이해하기 쉽게 설명해주시는 점이 좋았음  \n",
       "14035        교수님이 현직자랑 만나셨을 때 이야기를 종종 해주시는데 그것도 진짜 재밌습니다  \n",
       "14036                                  교수님 잘추는 편인지도 모르겠음  \n",
       "\n",
       "[14037 rows x 7 columns]"
      ]
     },
     "execution_count": 1150,
     "metadata": {},
     "output_type": "execute_result"
    }
   ],
   "source": [
    "lec_mean"
   ]
  },
  {
   "cell_type": "markdown",
   "metadata": {},
   "source": [
    "# 감성분석\n",
    "- 하려고 했으나 실패"
   ]
  },
  {
   "cell_type": "code",
   "execution_count": 225,
   "metadata": {
    "collapsed": true
   },
   "outputs": [],
   "source": [
    "from konlpy.tag import Kkma\n",
    "from konlpy.tag import Komoran\n",
    "from konlpy.tag import Twitter"
   ]
  },
  {
   "cell_type": "code",
   "execution_count": 227,
   "metadata": {
    "collapsed": true
   },
   "outputs": [],
   "source": [
    "kkma = Kkma()\n",
    "komo = Komoran()\n",
    "twit = Twitter()"
   ]
  },
  {
   "cell_type": "code",
   "execution_count": 258,
   "metadata": {
    "collapsed": true
   },
   "outputs": [],
   "source": [
    "def extract_n_adj(row):\n",
    "    pos_list = kkma.pos(row['prof_eval_sen'])\n",
    "    result = []\n",
    "    if len(pos_list)==0:\n",
    "        return ''\n",
    "\n",
    "    for token in pos_list:\n",
    "        if token[0]!='교수님' and (token[1] == 'MAG' or token[1] == 'VA'):\n",
    "            result.append(token[0]+'/'+token[1])\n",
    "    return result"
   ]
  },
  {
   "cell_type": "code",
   "execution_count": 1371,
   "metadata": {
    "collapsed": true
   },
   "outputs": [],
   "source": [
    "fin_save['pos_list'] = fin.apply(lambda x: extract_n_adj(x), axis=1)"
   ]
  },
  {
   "cell_type": "code",
   "execution_count": 519,
   "metadata": {},
   "outputs": [
    {
     "data": {
      "text/plain": [
       "[('좋', 'Adjective'), ('으', 'PreEomi'), ('시', 'PreEomi'), ('다', 'Eomi')]"
      ]
     },
     "execution_count": 519,
     "metadata": {},
     "output_type": "execute_result"
    }
   ],
   "source": [
    "twit.pos('좋으시다')"
   ]
  },
  {
   "cell_type": "code",
   "execution_count": 516,
   "metadata": {},
   "outputs": [
    {
     "data": {
      "text/plain": [
       "[('좋', 'VA'), ('으시', 'EPH'), ('다', 'EFN')]"
      ]
     },
     "execution_count": 516,
     "metadata": {},
     "output_type": "execute_result"
    }
   ],
   "source": [
    "kkma.pos('좋으시다')"
   ]
  },
  {
   "cell_type": "code",
   "execution_count": 382,
   "metadata": {
    "scrolled": true
   },
   "outputs": [
    {
     "data": {
      "text/plain": [
       "'교수님의 의견을 모두 타이핑해서 받아적은 후에 그대로 책에 넣고 복사하는 식+ 자신의 기막힌 생각을 짬뽕해서 적어내야만 합니다'"
      ]
     },
     "execution_count": 382,
     "metadata": {},
     "output_type": "execute_result"
    }
   ],
   "source": [
    "lec_mean['prof_eval_sen'][2]"
   ]
  },
  {
   "cell_type": "markdown",
   "metadata": {},
   "source": [
    "### 한국어 감성 분석 사전(KOSAC)"
   ]
  },
  {
   "cell_type": "markdown",
   "metadata": {},
   "source": [
    "- csv 다운 받은 곳: https://github.com/mrlee23/KoreanSentimentAnalyzer<br>\n",
    "- kosac: http://word.snu.ac.kr/kosac/corpus.php\n"
   ]
  },
  {
   "cell_type": "markdown",
   "metadata": {},
   "source": [
    "**polarity**는 주관적 표현이 긍정적인 의미인지 부정적인 의미인지를 나타내주기 위한 것이다.<br> \n",
    "polarity: positive, negative, neutral, complex"
   ]
  },
  {
   "cell_type": "code",
   "execution_count": 411,
   "metadata": {
    "collapsed": true
   },
   "outputs": [],
   "source": [
    "check = pd.read_csv('polarity.csv', encoding='utf-8')"
   ]
  },
  {
   "cell_type": "code",
   "execution_count": 2,
   "metadata": {
    "collapsed": true
   },
   "outputs": [],
   "source": [
    "import pandas as pd"
   ]
  },
  {
   "cell_type": "code",
   "execution_count": 3,
   "metadata": {
    "collapsed": true
   },
   "outputs": [],
   "source": [
    "sent = pd.read_csv('polarity.csv', encoding='utf-8')"
   ]
  },
  {
   "cell_type": "code",
   "execution_count": 4,
   "metadata": {},
   "outputs": [
    {
     "data": {
      "text/html": [
       "<div>\n",
       "<style>\n",
       "    .dataframe thead tr:only-child th {\n",
       "        text-align: right;\n",
       "    }\n",
       "\n",
       "    .dataframe thead th {\n",
       "        text-align: left;\n",
       "    }\n",
       "\n",
       "    .dataframe tbody tr th {\n",
       "        vertical-align: top;\n",
       "    }\n",
       "</style>\n",
       "<table border=\"1\" class=\"dataframe\">\n",
       "  <thead>\n",
       "    <tr style=\"text-align: right;\">\n",
       "      <th></th>\n",
       "      <th>ngram</th>\n",
       "      <th>freq</th>\n",
       "      <th>COMP</th>\n",
       "      <th>NEG</th>\n",
       "      <th>NEUT</th>\n",
       "      <th>None</th>\n",
       "      <th>POS</th>\n",
       "      <th>max.value</th>\n",
       "      <th>max.prop</th>\n",
       "    </tr>\n",
       "  </thead>\n",
       "  <tbody>\n",
       "    <tr>\n",
       "      <th>0</th>\n",
       "      <td>가*/JKS</td>\n",
       "      <td>1</td>\n",
       "      <td>0.0</td>\n",
       "      <td>0.0</td>\n",
       "      <td>0.0</td>\n",
       "      <td>0.0</td>\n",
       "      <td>1.0</td>\n",
       "      <td>POS</td>\n",
       "      <td>1.0</td>\n",
       "    </tr>\n",
       "    <tr>\n",
       "      <th>1</th>\n",
       "      <td>가*/JKS;있/VV</td>\n",
       "      <td>1</td>\n",
       "      <td>0.0</td>\n",
       "      <td>0.0</td>\n",
       "      <td>0.0</td>\n",
       "      <td>0.0</td>\n",
       "      <td>1.0</td>\n",
       "      <td>POS</td>\n",
       "      <td>1.0</td>\n",
       "    </tr>\n",
       "    <tr>\n",
       "      <th>2</th>\n",
       "      <td>가*/JKS;있/VV;었/EP</td>\n",
       "      <td>1</td>\n",
       "      <td>0.0</td>\n",
       "      <td>0.0</td>\n",
       "      <td>0.0</td>\n",
       "      <td>0.0</td>\n",
       "      <td>1.0</td>\n",
       "      <td>POS</td>\n",
       "      <td>1.0</td>\n",
       "    </tr>\n",
       "    <tr>\n",
       "      <th>3</th>\n",
       "      <td>가*/VV</td>\n",
       "      <td>3</td>\n",
       "      <td>0.0</td>\n",
       "      <td>0.0</td>\n",
       "      <td>0.0</td>\n",
       "      <td>0.0</td>\n",
       "      <td>1.0</td>\n",
       "      <td>POS</td>\n",
       "      <td>1.0</td>\n",
       "    </tr>\n",
       "    <tr>\n",
       "      <th>4</th>\n",
       "      <td>가*/VV;ㄴ다*/EF</td>\n",
       "      <td>1</td>\n",
       "      <td>0.0</td>\n",
       "      <td>0.0</td>\n",
       "      <td>0.0</td>\n",
       "      <td>0.0</td>\n",
       "      <td>1.0</td>\n",
       "      <td>POS</td>\n",
       "      <td>1.0</td>\n",
       "    </tr>\n",
       "  </tbody>\n",
       "</table>\n",
       "</div>"
      ],
      "text/plain": [
       "              ngram  freq  COMP  NEG  NEUT  None  POS max.value  max.prop\n",
       "0            가*/JKS     1   0.0  0.0   0.0   0.0  1.0       POS       1.0\n",
       "1       가*/JKS;있/VV     1   0.0  0.0   0.0   0.0  1.0       POS       1.0\n",
       "2  가*/JKS;있/VV;었/EP     1   0.0  0.0   0.0   0.0  1.0       POS       1.0\n",
       "3             가*/VV     3   0.0  0.0   0.0   0.0  1.0       POS       1.0\n",
       "4      가*/VV;ㄴ다*/EF     1   0.0  0.0   0.0   0.0  1.0       POS       1.0"
      ]
     },
     "execution_count": 4,
     "metadata": {},
     "output_type": "execute_result"
    }
   ],
   "source": [
    "sent.head()"
   ]
  },
  {
   "cell_type": "code",
   "execution_count": 359,
   "metadata": {
    "collapsed": true
   },
   "outputs": [],
   "source": [
    "sent = sent[['ngram','max.value']]"
   ]
  },
  {
   "cell_type": "code",
   "execution_count": 335,
   "metadata": {
    "collapsed": true
   },
   "outputs": [],
   "source": [
    "def not_slash(row):\n",
    "    if ';' not in row['ngram'] and ('MAG' in row['ngram'] or 'VA' in row['ngram']):\n",
    "        return row['ngram']\n",
    "    else:\n",
    "        return ''"
   ]
  },
  {
   "cell_type": "code",
   "execution_count": 360,
   "metadata": {
    "collapsed": true
   },
   "outputs": [],
   "source": [
    "sent['ngram'] = sent.apply(lambda x: not_slash(x), axis=1)\n",
    "sent = sent.loc[lambda x: (x['ngram']!='') ]"
   ]
  },
  {
   "cell_type": "code",
   "execution_count": null,
   "metadata": {
    "collapsed": true
   },
   "outputs": [],
   "source": [
    "sent = sent.set_index(sent['ngram'])\n",
    "del sent['ngram']"
   ]
  },
  {
   "cell_type": "code",
   "execution_count": 375,
   "metadata": {
    "collapsed": true
   },
   "outputs": [],
   "source": [
    "sent_dic = sent['max.value'].to_dict()"
   ]
  },
  {
   "cell_type": "code",
   "execution_count": 405,
   "metadata": {
    "collapsed": true
   },
   "outputs": [],
   "source": [
    "def gram_to_sent(row):\n",
    "    if len(row['pos_list']) == 0:\n",
    "        return ''\n",
    "    else:\n",
    "        sent_sum = 0\n",
    "        val_list = []\n",
    "        for gram in row['pos_list']:\n",
    "            try:\n",
    "                sent = sent_dic[gram]\n",
    "                if sent == 'NEG':\n",
    "                    val = -1\n",
    "                elif sent == 'POS':\n",
    "                    val = 1\n",
    "                elif sent == 'NEUT' or sent == 'COMP' or sent == 'None':\n",
    "                    val = 0\n",
    "                val_list.append(val)    \n",
    "            except KeyError:\n",
    "                continue\n",
    "        sent_sum = sum(val_list)\n",
    "        return sent_sum"
   ]
  },
  {
   "cell_type": "code",
   "execution_count": 402,
   "metadata": {
    "collapsed": true
   },
   "outputs": [],
   "source": [
    "sent_dic['별로/MAG'] = 'NEG'\n",
    "sent_dic['기막히/VA'] = 'COMP'\n",
    "sent_dic['상당히/MAG'] = 'COMP'\n",
    "sent_dic['진짜/MAG'] = 'COMP'\n",
    "sent_dic['되게/MAG'] = 'COMP'\n",
    "sent_dic['엄청/MAG'] = 'COMP'"
   ]
  },
  {
   "cell_type": "code",
   "execution_count": 406,
   "metadata": {
    "collapsed": true,
    "scrolled": true
   },
   "outputs": [],
   "source": [
    "lec_mean['sent_total'] = lec_mean.apply(lambda x: gram_to_sent(x), axis=1)"
   ]
  },
  {
   "cell_type": "code",
   "execution_count": 410,
   "metadata": {},
   "outputs": [
    {
     "data": {
      "text/plain": [
       "'NEG'"
      ]
     },
     "execution_count": 410,
     "metadata": {},
     "output_type": "execute_result"
    }
   ],
   "source": [
    "# 이런 이유로 못함.\n",
    "sent_dic['귀엽/VA']"
   ]
  },
  {
   "cell_type": "code",
   "execution_count": 412,
   "metadata": {},
   "outputs": [
    {
     "data": {
      "text/html": [
       "<div>\n",
       "<style>\n",
       "    .dataframe thead tr:only-child th {\n",
       "        text-align: right;\n",
       "    }\n",
       "\n",
       "    .dataframe thead th {\n",
       "        text-align: left;\n",
       "    }\n",
       "\n",
       "    .dataframe tbody tr th {\n",
       "        vertical-align: top;\n",
       "    }\n",
       "</style>\n",
       "<table border=\"1\" class=\"dataframe\">\n",
       "  <thead>\n",
       "    <tr style=\"text-align: right;\">\n",
       "      <th></th>\n",
       "      <th>ngram</th>\n",
       "      <th>freq</th>\n",
       "      <th>COMP</th>\n",
       "      <th>NEG</th>\n",
       "      <th>NEUT</th>\n",
       "      <th>None</th>\n",
       "      <th>POS</th>\n",
       "      <th>max.value</th>\n",
       "      <th>max.prop</th>\n",
       "    </tr>\n",
       "  </thead>\n",
       "  <tbody>\n",
       "    <tr>\n",
       "      <th>1792</th>\n",
       "      <td>귀엽/VA</td>\n",
       "      <td>1</td>\n",
       "      <td>0.0</td>\n",
       "      <td>1.0</td>\n",
       "      <td>0.0</td>\n",
       "      <td>0.0</td>\n",
       "      <td>0.0</td>\n",
       "      <td>NEG</td>\n",
       "      <td>1.0</td>\n",
       "    </tr>\n",
       "  </tbody>\n",
       "</table>\n",
       "</div>"
      ],
      "text/plain": [
       "      ngram  freq  COMP  NEG  NEUT  None  POS max.value  max.prop\n",
       "1792  귀엽/VA     1   0.0  1.0   0.0   0.0  0.0       NEG       1.0"
      ]
     },
     "execution_count": 412,
     "metadata": {},
     "output_type": "execute_result"
    }
   ],
   "source": [
    "check.loc[lambda x: x['ngram'] == '귀엽/VA']"
   ]
  },
  {
   "cell_type": "markdown",
   "metadata": {},
   "source": [
    "# 최종 Data frame 만들기"
   ]
  },
  {
   "cell_type": "code",
   "execution_count": 1222,
   "metadata": {
    "collapsed": true
   },
   "outputs": [],
   "source": [
    "df = pd.merge(lec_mean, total[['date','lecture_name','professor_name','semester','year','attendance',\n",
    "                           'exam_times','grade','homework', 'mean_rate','team','prof_eval_sen']], on=['lecture_name','professor_name','prof_eval_sen'])"
   ]
  },
  {
   "cell_type": "code",
   "execution_count": 1224,
   "metadata": {
    "collapsed": true
   },
   "outputs": [],
   "source": [
    "df = df.fillna(-1)\n",
    "df['semester'] = df['semester'].astype(int)"
   ]
  },
  {
   "cell_type": "code",
   "execution_count": 430,
   "metadata": {
    "collapsed": true
   },
   "outputs": [],
   "source": [
    "crs = pd.read_csv('yonsei_course.csv', encoding='utf-8')\n",
    "crs.columns =['college', 'id', 'mileage_avg', 'mileage_max', 'mileage_min', 'lecture_name',\n",
    "       'professor_name', 'room', 'semester', 'weight', 'year']"
   ]
  },
  {
   "cell_type": "code",
   "execution_count": 1226,
   "metadata": {
    "collapsed": true
   },
   "outputs": [],
   "source": [
    "fin = pd.merge(df, crs, on=['lecture_name','professor_name','year','semester'])"
   ]
  },
  {
   "cell_type": "code",
   "execution_count": 1227,
   "metadata": {
    "collapsed": true
   },
   "outputs": [],
   "source": [
    "pd.set_option('display.max_columns', None)"
   ]
  },
  {
   "cell_type": "code",
   "execution_count": 1230,
   "metadata": {
    "collapsed": true
   },
   "outputs": [],
   "source": [
    "del fin['date']\n",
    "del fin['id']\n",
    "del fin['weight']"
   ]
  },
  {
   "cell_type": "code",
   "execution_count": 1231,
   "metadata": {
    "collapsed": true
   },
   "outputs": [],
   "source": [
    "fin_save = fin.copy()"
   ]
  },
  {
   "cell_type": "code",
   "execution_count": 1232,
   "metadata": {
    "collapsed": true
   },
   "outputs": [],
   "source": [
    "fin = fin.fillna(-1)"
   ]
  },
  {
   "cell_type": "code",
   "execution_count": 1160,
   "metadata": {
    "collapsed": true
   },
   "outputs": [],
   "source": [
    "def exc_grad(row):\n",
    "    if row['college'] == -1 or row['college'] == '???? ?????':\n",
    "        return 'Null'\n",
    "    \n",
    "    elif '대학원' in row['college']:\n",
    "        return ''\n",
    "    else:\n",
    "        return row['college']"
   ]
  },
  {
   "cell_type": "code",
   "execution_count": 1233,
   "metadata": {
    "collapsed": true
   },
   "outputs": [],
   "source": [
    "fin['college'] = fin.apply(lambda x: exc_grad(x), axis=1)"
   ]
  },
  {
   "cell_type": "code",
   "execution_count": 1235,
   "metadata": {
    "collapsed": true
   },
   "outputs": [],
   "source": [
    "fin = fin.loc[lambda x: x['college']!='']"
   ]
  },
  {
   "cell_type": "code",
   "execution_count": 1236,
   "metadata": {
    "collapsed": true
   },
   "outputs": [],
   "source": [
    "fin_save = fin.copy()"
   ]
  },
  {
   "cell_type": "code",
   "execution_count": 1177,
   "metadata": {
    "collapsed": true
   },
   "outputs": [],
   "source": [
    "fin = fin_save.copy()"
   ]
  },
  {
   "cell_type": "code",
   "execution_count": 1238,
   "metadata": {
    "collapsed": true
   },
   "outputs": [],
   "source": [
    "fin = fin.drop_duplicates(['lecture_name', 'professor_name'])"
   ]
  },
  {
   "cell_type": "code",
   "execution_count": 1240,
   "metadata": {
    "collapsed": true
   },
   "outputs": [],
   "source": [
    "fin_drop = fin.copy()"
   ]
  },
  {
   "cell_type": "markdown",
   "metadata": {},
   "source": [
    "# 강의 추천!"
   ]
  },
  {
   "cell_type": "markdown",
   "metadata": {},
   "source": [
    "### 베스트, 워스트"
   ]
  },
  {
   "cell_type": "code",
   "execution_count": 1253,
   "metadata": {
    "collapsed": true
   },
   "outputs": [],
   "source": [
    "rec = fin_drop.copy()"
   ]
  },
  {
   "cell_type": "code",
   "execution_count": 1091,
   "metadata": {
    "collapsed": true
   },
   "outputs": [],
   "source": [
    "def sel_major(row):\n",
    "    if row['college'] in maj:\n",
    "        return row['college']\n",
    "    else:\n",
    "        return ''"
   ]
  },
  {
   "cell_type": "code",
   "execution_count": 1168,
   "metadata": {},
   "outputs": [
    {
     "name": "stderr",
     "output_type": "stream",
     "text": [
      "C:\\Users\\nhm\\Anaconda3\\lib\\site-packages\\ipykernel_launcher.py:1: SettingWithCopyWarning:\n",
      "\n",
      "\n",
      "A value is trying to be set on a copy of a slice from a DataFrame.\n",
      "Try using .loc[row_indexer,col_indexer] = value instead\n",
      "\n",
      "See the caveats in the documentation: http://pandas.pydata.org/pandas-docs/stable/indexing.html#indexing-view-versus-copy\n",
      "\n"
     ]
    }
   ],
   "source": [
    "rec['college'] = rec.apply(lambda x: sel_major(x), axis=1)"
   ]
  },
  {
   "cell_type": "code",
   "execution_count": 1181,
   "metadata": {
    "collapsed": true
   },
   "outputs": [],
   "source": [
    "def exc_song(row):\n",
    "    if '진' in row['room'] or '자' in row['room']:\n",
    "        return ''\n",
    "    else:\n",
    "        return row['room']"
   ]
  },
  {
   "cell_type": "code",
   "execution_count": 1254,
   "metadata": {
    "collapsed": true
   },
   "outputs": [],
   "source": [
    "rec = rec.fillna('NaN')"
   ]
  },
  {
   "cell_type": "code",
   "execution_count": 1255,
   "metadata": {
    "collapsed": true
   },
   "outputs": [],
   "source": [
    "rec['room'] = rec.apply(lambda x: exc_song(x), axis=1)"
   ]
  },
  {
   "cell_type": "code",
   "execution_count": 1256,
   "metadata": {
    "collapsed": true
   },
   "outputs": [],
   "source": [
    "rec = rec.loc[lambda x: (x['college']!='') & (x['year']>=2016) & (x['room']!='')]"
   ]
  },
  {
   "cell_type": "markdown",
   "metadata": {},
   "source": [
    "### 교양"
   ]
  },
  {
   "cell_type": "code",
   "execution_count": 1245,
   "metadata": {
    "collapsed": true
   },
   "outputs": [],
   "source": [
    "def ref_sel(row):\n",
    "    if '대학' in row['lecture_name'] or '기독교' in row['lecture_name'] or row['lecture_name'] == '글쓰기' \\\n",
    "    or 'HOLISTIC' in row['lecture_name'] or 'RC' in row['lecture_name']:  \n",
    "        return ''\n",
    "    else:\n",
    "        return row['lecture_name']"
   ]
  },
  {
   "cell_type": "markdown",
   "metadata": {},
   "source": [
    "5점이 너무 많아서 학점느님 조건 추가"
   ]
  },
  {
   "cell_type": "code",
   "execution_count": 1292,
   "metadata": {},
   "outputs": [
    {
     "name": "stderr",
     "output_type": "stream",
     "text": [
      "C:\\Users\\nhm\\Anaconda3\\lib\\site-packages\\ipykernel_launcher.py:2: SettingWithCopyWarning:\n",
      "\n",
      "\n",
      "A value is trying to be set on a copy of a slice from a DataFrame.\n",
      "Try using .loc[row_indexer,col_indexer] = value instead\n",
      "\n",
      "See the caveats in the documentation: http://pandas.pydata.org/pandas-docs/stable/indexing.html#indexing-view-versus-copy\n",
      "\n"
     ]
    },
    {
     "data": {
      "text/plain": [
       "lecture_name      고급실용문쓰기\n",
       "professor_name        최영석\n",
       "is_memo_mean            0\n",
       "is_ess_mean             1\n",
       "is_report_mean          1\n",
       "lec_pow_mean           -1\n",
       "prof_eval_sen            \n",
       "semester                1\n",
       "year                 2017\n",
       "attendance           직접호명\n",
       "exam_times             없음\n",
       "grade                학점느님\n",
       "homework               많음\n",
       "mean_rate            3.29\n",
       "team                   보통\n",
       "college              학부대학\n",
       "mileage_avg         13.75\n",
       "mileage_max            36\n",
       "mileage_min             1\n",
       "room                백S608\n",
       "Name: 56591, dtype: object"
      ]
     },
     "execution_count": 1292,
     "metadata": {},
     "output_type": "execute_result"
    }
   ],
   "source": [
    "ref = rec.loc[lambda x: (x['college']=='학부대학')]\n",
    "ref['lecture_name']= ref.apply(lambda x: ref_sel(x), axis=1)\n",
    "ref = ref.loc[lambda x: x['grade']=='학점느님']\n",
    "ref = ref.loc[lambda x: x['lecture_name']!='']\n",
    "r=ref.sort_values(['mean_rate'], ascending=[True])\n",
    "r.iloc[6]"
   ]
  },
  {
   "cell_type": "markdown",
   "metadata": {},
   "source": [
    "### 경제학부"
   ]
  },
  {
   "cell_type": "code",
   "execution_count": 1267,
   "metadata": {},
   "outputs": [
    {
     "data": {
      "text/html": [
       "<div>\n",
       "<style>\n",
       "    .dataframe thead tr:only-child th {\n",
       "        text-align: right;\n",
       "    }\n",
       "\n",
       "    .dataframe thead th {\n",
       "        text-align: left;\n",
       "    }\n",
       "\n",
       "    .dataframe tbody tr th {\n",
       "        vertical-align: top;\n",
       "    }\n",
       "</style>\n",
       "<table border=\"1\" class=\"dataframe\">\n",
       "  <thead>\n",
       "    <tr style=\"text-align: right;\">\n",
       "      <th></th>\n",
       "      <th>lecture_name</th>\n",
       "      <th>professor_name</th>\n",
       "      <th>is_memo_mean</th>\n",
       "      <th>is_ess_mean</th>\n",
       "      <th>is_report_mean</th>\n",
       "      <th>lec_pow_mean</th>\n",
       "      <th>prof_eval_sen</th>\n",
       "      <th>semester</th>\n",
       "      <th>year</th>\n",
       "      <th>attendance</th>\n",
       "      <th>exam_times</th>\n",
       "      <th>grade</th>\n",
       "      <th>homework</th>\n",
       "      <th>mean_rate</th>\n",
       "      <th>team</th>\n",
       "      <th>college</th>\n",
       "      <th>mileage_avg</th>\n",
       "      <th>mileage_max</th>\n",
       "      <th>mileage_min</th>\n",
       "      <th>room</th>\n",
       "    </tr>\n",
       "  </thead>\n",
       "  <tbody>\n",
       "    <tr>\n",
       "      <th>140000</th>\n",
       "      <td>산업과전략</td>\n",
       "      <td>김상현</td>\n",
       "      <td>-1.0</td>\n",
       "      <td>-1.0</td>\n",
       "      <td>-1.0</td>\n",
       "      <td>-1.0</td>\n",
       "      <td>교수님 똑똑한 지식을 옆에서 조금씩 엿보는 느낌의 수업이나</td>\n",
       "      <td>1</td>\n",
       "      <td>2017</td>\n",
       "      <td>반영안함</td>\n",
       "      <td>두 번</td>\n",
       "      <td>학점느님</td>\n",
       "      <td>보통</td>\n",
       "      <td>5.00</td>\n",
       "      <td>없음</td>\n",
       "      <td>상경대학 경제학부</td>\n",
       "      <td>5.19</td>\n",
       "      <td>12</td>\n",
       "      <td>1</td>\n",
       "      <td>상본B109</td>\n",
       "    </tr>\n",
       "    <tr>\n",
       "      <th>69938</th>\n",
       "      <td>국제금융론</td>\n",
       "      <td>성태윤</td>\n",
       "      <td>1.0</td>\n",
       "      <td>0.0</td>\n",
       "      <td>1.0</td>\n",
       "      <td>-1.0</td>\n",
       "      <td>교수님이 약간 나이에 비해 옛날분이시다</td>\n",
       "      <td>1</td>\n",
       "      <td>2017</td>\n",
       "      <td>직접호명</td>\n",
       "      <td>한 번</td>\n",
       "      <td>학점느님</td>\n",
       "      <td>보통</td>\n",
       "      <td>5.00</td>\n",
       "      <td>없음</td>\n",
       "      <td>상경대학 경제학부</td>\n",
       "      <td>10.24</td>\n",
       "      <td>12</td>\n",
       "      <td>1</td>\n",
       "      <td>상본B120</td>\n",
       "    </tr>\n",
       "    <tr>\n",
       "      <th>151942</th>\n",
       "      <td>시장설계</td>\n",
       "      <td>박재옥</td>\n",
       "      <td>-1.0</td>\n",
       "      <td>-1.0</td>\n",
       "      <td>-1.0</td>\n",
       "      <td>-1.0</td>\n",
       "      <td></td>\n",
       "      <td>2</td>\n",
       "      <td>2016</td>\n",
       "      <td>반영안함</td>\n",
       "      <td>두 번</td>\n",
       "      <td>학점느님</td>\n",
       "      <td>없음</td>\n",
       "      <td>5.00</td>\n",
       "      <td>없음</td>\n",
       "      <td>상경대학 경제학부</td>\n",
       "      <td>8.28</td>\n",
       "      <td>12</td>\n",
       "      <td>1</td>\n",
       "      <td>상본115</td>\n",
       "    </tr>\n",
       "    <tr>\n",
       "      <th>149768</th>\n",
       "      <td>수리경제학</td>\n",
       "      <td>박재옥</td>\n",
       "      <td>-1.0</td>\n",
       "      <td>-1.0</td>\n",
       "      <td>-1.0</td>\n",
       "      <td>-1.0</td>\n",
       "      <td>교수님이 질문을 잘 받아주셔서 정말 좋습니</td>\n",
       "      <td>1</td>\n",
       "      <td>2016</td>\n",
       "      <td>직접호명</td>\n",
       "      <td>두 번</td>\n",
       "      <td>비율 채워줌</td>\n",
       "      <td>없음</td>\n",
       "      <td>5.00</td>\n",
       "      <td>없음</td>\n",
       "      <td>상경대학 경제학부</td>\n",
       "      <td>9.02</td>\n",
       "      <td>18</td>\n",
       "      <td>1</td>\n",
       "      <td>상본B103</td>\n",
       "    </tr>\n",
       "    <tr>\n",
       "      <th>135456</th>\n",
       "      <td>법경제학</td>\n",
       "      <td>김철영</td>\n",
       "      <td>1.0</td>\n",
       "      <td>0.0</td>\n",
       "      <td>1.0</td>\n",
       "      <td>2.0</td>\n",
       "      <td>교수님이 웃고있지 않는 때를 본 적이 없어서 진짜 존경스러움</td>\n",
       "      <td>1</td>\n",
       "      <td>2017</td>\n",
       "      <td>전자출결</td>\n",
       "      <td>두 번</td>\n",
       "      <td>학점느님</td>\n",
       "      <td>보통</td>\n",
       "      <td>4.96</td>\n",
       "      <td>없음</td>\n",
       "      <td>상경대학 경제학부</td>\n",
       "      <td>11.43</td>\n",
       "      <td>12</td>\n",
       "      <td>1</td>\n",
       "      <td>상본B130</td>\n",
       "    </tr>\n",
       "  </tbody>\n",
       "</table>\n",
       "</div>"
      ],
      "text/plain": [
       "       lecture_name professor_name  is_memo_mean  is_ess_mean  is_report_mean  \\\n",
       "140000        산업과전략            김상현          -1.0         -1.0            -1.0   \n",
       "69938         국제금융론            성태윤           1.0          0.0             1.0   \n",
       "151942         시장설계            박재옥          -1.0         -1.0            -1.0   \n",
       "149768        수리경제학            박재옥          -1.0         -1.0            -1.0   \n",
       "135456         법경제학            김철영           1.0          0.0             1.0   \n",
       "\n",
       "        lec_pow_mean                      prof_eval_sen  semester  year  \\\n",
       "140000          -1.0   교수님 똑똑한 지식을 옆에서 조금씩 엿보는 느낌의 수업이나         1  2017   \n",
       "69938           -1.0              교수님이 약간 나이에 비해 옛날분이시다         1  2017   \n",
       "151942          -1.0                                            2  2016   \n",
       "149768          -1.0            교수님이 질문을 잘 받아주셔서 정말 좋습니         1  2016   \n",
       "135456           2.0  교수님이 웃고있지 않는 때를 본 적이 없어서 진짜 존경스러움         1  2017   \n",
       "\n",
       "       attendance exam_times   grade homework  mean_rate team    college  \\\n",
       "140000       반영안함        두 번    학점느님       보통       5.00   없음  상경대학 경제학부   \n",
       "69938        직접호명        한 번    학점느님       보통       5.00   없음  상경대학 경제학부   \n",
       "151942       반영안함        두 번    학점느님       없음       5.00   없음  상경대학 경제학부   \n",
       "149768       직접호명        두 번  비율 채워줌       없음       5.00   없음  상경대학 경제학부   \n",
       "135456       전자출결        두 번    학점느님       보통       4.96   없음  상경대학 경제학부   \n",
       "\n",
       "        mileage_avg mileage_max mileage_min    room  \n",
       "140000         5.19          12           1  상본B109  \n",
       "69938         10.24          12           1  상본B120  \n",
       "151942         8.28          12           1   상본115  \n",
       "149768         9.02          18           1  상본B103  \n",
       "135456        11.43          12           1  상본B130  "
      ]
     },
     "execution_count": 1267,
     "metadata": {},
     "output_type": "execute_result"
    }
   ],
   "source": [
    "eco = rec.loc[lambda x: (x['college']=='상경대학 경제학부')].sort_values(['mean_rate'], ascending=[False])\n",
    "eco.head(5)"
   ]
  },
  {
   "cell_type": "code",
   "execution_count": 1305,
   "metadata": {},
   "outputs": [
    {
     "data": {
      "text/plain": [
       "lecture_name          은행과이자\n",
       "professor_name      김광환,장은종\n",
       "is_memo_mean             -1\n",
       "is_ess_mean              -1\n",
       "is_report_mean           -1\n",
       "lec_pow_mean             -1\n",
       "prof_eval_sen     교수님이 없습니다\n",
       "semester                  1\n",
       "year                   2016\n",
       "attendance             직접호명\n",
       "exam_times              두 번\n",
       "grade                매우 깐깐함\n",
       "homework                 없음\n",
       "mean_rate                 1\n",
       "team                     없음\n",
       "college           상경대학 경제학부\n",
       "mileage_avg            2.57\n",
       "mileage_max               7\n",
       "mileage_min               1\n",
       "room                  상별102\n",
       "Name: 179297, dtype: object"
      ]
     },
     "execution_count": 1305,
     "metadata": {},
     "output_type": "execute_result"
    }
   ],
   "source": [
    "eco.tail(5).iloc[4]"
   ]
  },
  {
   "cell_type": "markdown",
   "metadata": {},
   "source": [
    "### 공과대학 컴퓨터과학과"
   ]
  },
  {
   "cell_type": "code",
   "execution_count": 1271,
   "metadata": {},
   "outputs": [
    {
     "data": {
      "text/plain": [
       "lecture_name      인간과컴퓨터인터페이스\n",
       "professor_name            한탁돈\n",
       "is_memo_mean               -1\n",
       "is_ess_mean                -1\n",
       "is_report_mean             -1\n",
       "lec_pow_mean               -1\n",
       "prof_eval_sen        교수님 감사합니\n",
       "semester                    2\n",
       "year                     2016\n",
       "attendance               직접호명\n",
       "exam_times                한 번\n",
       "grade                    학점느님\n",
       "homework                   많음\n",
       "mean_rate                4.75\n",
       "team                       많음\n",
       "college           공과대학 컴퓨터과학과\n",
       "mileage_avg              7.95\n",
       "mileage_max                36\n",
       "mileage_min                 1\n",
       "room                    공A658\n",
       "Name: 180543, dtype: object"
      ]
     },
     "execution_count": 1271,
     "metadata": {},
     "output_type": "execute_result"
    }
   ],
   "source": [
    "com = rec.loc[lambda x: (x['college']=='공과대학 컴퓨터과학과')].sort_values(['mean_rate'], ascending=False)\n",
    "com.iloc[6]"
   ]
  },
  {
   "cell_type": "code",
   "execution_count": 1310,
   "metadata": {},
   "outputs": [
    {
     "data": {
      "text/plain": [
       "lecture_name      소프트웨어종합설계(1)\n",
       "professor_name             송주석\n",
       "is_memo_mean                -1\n",
       "is_ess_mean                 -1\n",
       "is_report_mean              -1\n",
       "lec_pow_mean                -1\n",
       "prof_eval_sen                 \n",
       "semester                     1\n",
       "year                      2017\n",
       "attendance                직접호명\n",
       "exam_times                  없음\n",
       "grade                   매우 깐깐함\n",
       "homework                    많음\n",
       "mean_rate                 1.33\n",
       "team                        많음\n",
       "college            공과대학 컴퓨터과학과\n",
       "mileage_avg               5.08\n",
       "mileage_max                 36\n",
       "mileage_min                  1\n",
       "room                     공A528\n",
       "Name: 149753, dtype: object"
      ]
     },
     "execution_count": 1310,
     "metadata": {},
     "output_type": "execute_result"
    }
   ],
   "source": [
    "com.tail().iloc[4]"
   ]
  },
  {
   "cell_type": "markdown",
   "metadata": {},
   "source": [
    "### 공과대학 정보산업공학과"
   ]
  },
  {
   "cell_type": "code",
   "execution_count": 1276,
   "metadata": {},
   "outputs": [
    {
     "data": {
      "text/plain": [
       "lecture_name                                지능정보시스템개론\n",
       "professor_name                                    김우주\n",
       "is_memo_mean                                       -1\n",
       "is_ess_mean                                        -1\n",
       "is_report_mean                                     -1\n",
       "lec_pow_mean                                       -1\n",
       "prof_eval_sen     교수님! 수업 내용은 인공지능에 대한 간단한 개념을 배우는 것임\n",
       "semester                                            1\n",
       "year                                             2017\n",
       "attendance                                       전자출결\n",
       "exam_times                                        두 번\n",
       "grade                                          비율 채워줌\n",
       "homework                                           보통\n",
       "mean_rate                                           5\n",
       "team                                               보통\n",
       "college                                    공과대학 산업공학과\n",
       "mileage_avg                                      7.79\n",
       "mileage_max                                        36\n",
       "mileage_min                                         1\n",
       "room                                            공A417\n",
       "Name: 190107, dtype: object"
      ]
     },
     "execution_count": 1276,
     "metadata": {},
     "output_type": "execute_result"
    }
   ],
   "source": [
    "ind = rec.loc[lambda x: (x['college']=='공과대학 산업공학과') | (x['college']=='공과대학 정보산업공학과')].sort_values(['mean_rate'], ascending=[False])\n",
    "ind.iloc[4]"
   ]
  },
  {
   "cell_type": "code",
   "execution_count": 1320,
   "metadata": {},
   "outputs": [
    {
     "data": {
      "text/plain": [
       "lecture_name      창업302: 기술혁신경영\n",
       "professor_name              박희준\n",
       "is_memo_mean                 -1\n",
       "is_ess_mean                  -1\n",
       "is_report_mean               -1\n",
       "lec_pow_mean                 -1\n",
       "prof_eval_sen                  \n",
       "semester                      1\n",
       "year                       2017\n",
       "attendance                 전자출결\n",
       "exam_times                  두 번\n",
       "grade                      학점느님\n",
       "homework                     보통\n",
       "mean_rate                     3\n",
       "team                         보통\n",
       "college              공과대학 산업공학과\n",
       "mileage_avg                7.51\n",
       "mileage_max                  27\n",
       "mileage_min                   2\n",
       "room                      공A432\n",
       "Name: 194658, dtype: object"
      ]
     },
     "execution_count": 1320,
     "metadata": {},
     "output_type": "execute_result"
    }
   ],
   "source": [
    "ind.tail(6).iloc[0]"
   ]
  },
  {
   "cell_type": "markdown",
   "metadata": {},
   "source": [
    "### 상경대학 응용통계학"
   ]
  },
  {
   "cell_type": "code",
   "execution_count": 1282,
   "metadata": {},
   "outputs": [
    {
     "data": {
      "text/plain": [
       "lecture_name          손해보험통계\n",
       "professor_name           김현태\n",
       "is_memo_mean              -1\n",
       "is_ess_mean               -1\n",
       "is_report_mean            -1\n",
       "lec_pow_mean              -1\n",
       "prof_eval_sen               \n",
       "semester                   2\n",
       "year                    2016\n",
       "attendance              전자출결\n",
       "exam_times               두 번\n",
       "grade                   학점느님\n",
       "homework                  보통\n",
       "mean_rate               4.67\n",
       "team                      없음\n",
       "college           상경대학 응용통계학\n",
       "mileage_avg             8.88\n",
       "mileage_max               18\n",
       "mileage_min                1\n",
       "room                  상본B112\n",
       "Name: 149765, dtype: object"
      ]
     },
     "execution_count": 1282,
     "metadata": {},
     "output_type": "execute_result"
    }
   ],
   "source": [
    "sta = rec.loc[lambda x: x['college']=='상경대학 응용통계학'].sort_values(['mean_rate'], ascending=[False])\n",
    "sta.iloc[4]"
   ]
  },
  {
   "cell_type": "code",
   "execution_count": 1325,
   "metadata": {},
   "outputs": [
    {
     "data": {
      "text/plain": [
       "lecture_name               통계학입문\n",
       "professor_name               왕상미\n",
       "is_memo_mean                  -1\n",
       "is_ess_mean                   -1\n",
       "is_report_mean                -1\n",
       "lec_pow_mean                   0\n",
       "prof_eval_sen                   \n",
       "semester                       1\n",
       "year                        2017\n",
       "attendance                  직접호명\n",
       "exam_times                   두 번\n",
       "grade                     비율 채워줌\n",
       "homework                      보통\n",
       "mean_rate                   2.25\n",
       "team                          없음\n",
       "college               상경대학 응용통계학\n",
       "mileage_avg                18.13\n",
       "mileage_max                   36\n",
       "mileage_min                    1\n",
       "room              상본B110(상본B110)\n",
       "Name: 581738, dtype: object"
      ]
     },
     "execution_count": 1325,
     "metadata": {},
     "output_type": "execute_result"
    }
   ],
   "source": [
    "sta.tail(5).iloc[4]"
   ]
  },
  {
   "cell_type": "markdown",
   "metadata": {},
   "source": [
    "### 평점 좋은 강의는 어느 과에 많을까?"
   ]
  },
  {
   "cell_type": "code",
   "execution_count": 1333,
   "metadata": {
    "collapsed": true
   },
   "outputs": [],
   "source": [
    "highest = fin_drop.loc[lambda x: x['mean_rate']>=5]"
   ]
  },
  {
   "cell_type": "code",
   "execution_count": 1336,
   "metadata": {
    "collapsed": true
   },
   "outputs": [],
   "source": [
    "col_counts = highest['college'].value_counts()"
   ]
  },
  {
   "cell_type": "code",
   "execution_count": 1337,
   "metadata": {
    "scrolled": true
   },
   "outputs": [
    {
     "data": {
      "text/plain": [
       "교육과학대학 체육교육학        54\n",
       "이과대학 수학             31\n",
       "공과대학 전기전자공학과        29\n",
       "교육과학대학 스포츠응용산업학과    28\n",
       "교육과학대학 스포츠레저학과      27\n",
       "언더우드국제대학            25\n",
       "문과대학 중어중문학          21\n",
       "공과대학 기계공학과          17\n",
       "경영대학 경영학과           15\n",
       "문과대학 노어노문학          14\n",
       "문과대학 철학             13\n",
       "문과대학 국어국문학          13\n",
       "문과대학 불어불문학          12\n",
       "문과대학 영어영문학          12\n",
       "언더우드국제대학 언더우드학부     12\n",
       "문과대학 사학             11\n",
       "교육과학대학 교육학부         11\n",
       "문과대학 심리학            11\n",
       "문과대학 독어독문학          10\n",
       "음악대학 작곡과            10\n",
       "공과대학 신소재공학과         10\n",
       "사회과학대학 정치외교학        10\n",
       "글로벌인재학부              9\n",
       "이과대학 화학              9\n",
       "공과대학 화공생명공학과         8\n",
       "이과대학 물리학             7\n",
       "공과대학 건축공학과           7\n",
       "사회과학대학 문화인류학과        7\n",
       "이과대학 대기과학            7\n",
       "공과대학 컴퓨터과학과          7\n",
       "                    ..\n",
       "사회과학대학 사회학           3\n",
       "공과대학 토목·환경공학과        3\n",
       "사회과학대학 사회복지학         3\n",
       "공과대학 글로벌융합공학부        3\n",
       "공과대학 산업공학과           3\n",
       "교목실                  3\n",
       "언더우드국제대학 융합사회과학부     3\n",
       "공학교육혁신센터             2\n",
       "언더우드국제대학 테크노아트학부     2\n",
       "학부연계전공               2\n",
       "상경대학 응용통계학           2\n",
       "공과대학 도시공학과           2\n",
       "교육과학대학 스포츠레저학        2\n",
       "사회과학대학 언론홍보영상        2\n",
       "생활과학대학 식품영양학         2\n",
       "음악대학 관현악과            2\n",
       "언더우드국제대학 아시아학부       2\n",
       "생명시스템대학              1\n",
       "Null                 1\n",
       "언어연구교육원 외국어학당        1\n",
       "학부대학 사회계열            1\n",
       "의과대학 의사학과            1\n",
       "생활과학대학 생활디자인학        1\n",
       "의과대학 의학공학교실          1\n",
       "생활과학대학 아동.가족학        1\n",
       "????                 1\n",
       "학부대학 인문계열            1\n",
       "이과대학 천문우주학           1\n",
       "의과대학 해부학교실           1\n",
       "국학연구원                1\n",
       "Name: college, Length: 72, dtype: int64"
      ]
     },
     "execution_count": 1337,
     "metadata": {},
     "output_type": "execute_result"
    }
   ],
   "source": [
    "col_counts.drop('학부대학')"
   ]
  },
  {
   "cell_type": "markdown",
   "metadata": {},
   "source": [
    "### 학점 잘 주는 교수님이 많을까?"
   ]
  },
  {
   "cell_type": "code",
   "execution_count": 1338,
   "metadata": {
    "collapsed": true
   },
   "outputs": [],
   "source": [
    "pro = fin_drop.copy()"
   ]
  },
  {
   "cell_type": "code",
   "execution_count": 1339,
   "metadata": {
    "collapsed": true
   },
   "outputs": [],
   "source": [
    "pro = pro.drop_duplicates('professor_name')"
   ]
  },
  {
   "cell_type": "code",
   "execution_count": 1340,
   "metadata": {
    "collapsed": true
   },
   "outputs": [],
   "source": [
    "grade_counts = rec['grade'].value_counts()"
   ]
  },
  {
   "cell_type": "code",
   "execution_count": 1341,
   "metadata": {},
   "outputs": [
    {
     "data": {
      "text/plain": [
       "비율 채워줌    995\n",
       "학점느님      876\n",
       "매우 깐깐함    267\n",
       "F 폭격기      14\n",
       "Name: grade, dtype: int64"
      ]
     },
     "execution_count": 1341,
     "metadata": {},
     "output_type": "execute_result"
    }
   ],
   "source": [
    "grade_counts"
   ]
  },
  {
   "cell_type": "markdown",
   "metadata": {},
   "source": [
    "과연 대망의 F 폭격기는...? "
   ]
  },
  {
   "cell_type": "code",
   "execution_count": 1061,
   "metadata": {},
   "outputs": [
    {
     "data": {
      "text/html": [
       "<div>\n",
       "<style>\n",
       "    .dataframe thead tr:only-child th {\n",
       "        text-align: right;\n",
       "    }\n",
       "\n",
       "    .dataframe thead th {\n",
       "        text-align: left;\n",
       "    }\n",
       "\n",
       "    .dataframe tbody tr th {\n",
       "        vertical-align: top;\n",
       "    }\n",
       "</style>\n",
       "<table border=\"1\" class=\"dataframe\">\n",
       "  <thead>\n",
       "    <tr style=\"text-align: right;\">\n",
       "      <th></th>\n",
       "      <th>lecture_name</th>\n",
       "      <th>professor_name</th>\n",
       "      <th>grade</th>\n",
       "      <th>mean_rate</th>\n",
       "      <th>mileage_avg</th>\n",
       "      <th>year</th>\n",
       "      <th>college</th>\n",
       "      <th>room</th>\n",
       "    </tr>\n",
       "  </thead>\n",
       "  <tbody>\n",
       "    <tr>\n",
       "      <th>6640</th>\n",
       "      <td>전자기학(1)</td>\n",
       "      <td>김덕영</td>\n",
       "      <td>F 폭격기</td>\n",
       "      <td>2.00</td>\n",
       "      <td>11.13</td>\n",
       "      <td>2016</td>\n",
       "      <td>이과대학 물리학</td>\n",
       "      <td>과323(과323)</td>\n",
       "    </tr>\n",
       "    <tr>\n",
       "      <th>23785</th>\n",
       "      <td>유기화학</td>\n",
       "      <td>정진현</td>\n",
       "      <td>F 폭격기</td>\n",
       "      <td>2.53</td>\n",
       "      <td>NaN</td>\n",
       "      <td>2016</td>\n",
       "      <td>약학대학 약학과</td>\n",
       "      <td>의대131호</td>\n",
       "    </tr>\n",
       "    <tr>\n",
       "      <th>27355</th>\n",
       "      <td>도시학개론</td>\n",
       "      <td>임업</td>\n",
       "      <td>F 폭격기</td>\n",
       "      <td>3.00</td>\n",
       "      <td>NaN</td>\n",
       "      <td>2016</td>\n",
       "      <td>공과대학 도시공학과</td>\n",
       "      <td>I진C302</td>\n",
       "    </tr>\n",
       "    <tr>\n",
       "      <th>32108</th>\n",
       "      <td>GREAT BOOKS &amp; DEBATE (국가의탄생과전쟁)</td>\n",
       "      <td>문상석</td>\n",
       "      <td>F 폭격기</td>\n",
       "      <td>1.64</td>\n",
       "      <td>8.06</td>\n",
       "      <td>2016</td>\n",
       "      <td>사회과학대학 사회학</td>\n",
       "      <td>백S608</td>\n",
       "    </tr>\n",
       "    <tr>\n",
       "      <th>32511</th>\n",
       "      <td>유기화학(2)</td>\n",
       "      <td>태진성</td>\n",
       "      <td>F 폭격기</td>\n",
       "      <td>1.50</td>\n",
       "      <td>5.13</td>\n",
       "      <td>2016</td>\n",
       "      <td>이과대학 화학</td>\n",
       "      <td>과325</td>\n",
       "    </tr>\n",
       "    <tr>\n",
       "      <th>32604</th>\n",
       "      <td>대학영어Ⅱ</td>\n",
       "      <td>왕그레이스</td>\n",
       "      <td>F 폭격기</td>\n",
       "      <td>2.25</td>\n",
       "      <td>NaN</td>\n",
       "      <td>2016</td>\n",
       "      <td>학부대학</td>\n",
       "      <td>I진A402</td>\n",
       "    </tr>\n",
       "    <tr>\n",
       "      <th>38219</th>\n",
       "      <td>문학과영화</td>\n",
       "      <td>임정택</td>\n",
       "      <td>F 폭격기</td>\n",
       "      <td>2.00</td>\n",
       "      <td>11.80</td>\n",
       "      <td>2016</td>\n",
       "      <td>문과대학 독어독문학</td>\n",
       "      <td>외526</td>\n",
       "    </tr>\n",
       "    <tr>\n",
       "      <th>38271</th>\n",
       "      <td>CREATIVE THINKING AND VISUALIZATION</td>\n",
       "      <td>주하영</td>\n",
       "      <td>F 폭격기</td>\n",
       "      <td>1.14</td>\n",
       "      <td>12.70</td>\n",
       "      <td>2016</td>\n",
       "      <td>언더우드국제대학</td>\n",
       "      <td>I진B206</td>\n",
       "    </tr>\n",
       "    <tr>\n",
       "      <th>39178</th>\n",
       "      <td>공학수학(2)</td>\n",
       "      <td>박승경</td>\n",
       "      <td>F 폭격기</td>\n",
       "      <td>3.00</td>\n",
       "      <td>NaN</td>\n",
       "      <td>2016</td>\n",
       "      <td>이과대학 수학</td>\n",
       "      <td>공A653/공A528(공A669)</td>\n",
       "    </tr>\n",
       "    <tr>\n",
       "      <th>42305</th>\n",
       "      <td>해석학(1)</td>\n",
       "      <td>황숙정</td>\n",
       "      <td>F 폭격기</td>\n",
       "      <td>1.00</td>\n",
       "      <td>17.75</td>\n",
       "      <td>2016</td>\n",
       "      <td>이과대학 수학</td>\n",
       "      <td>과B101(과B101)</td>\n",
       "    </tr>\n",
       "    <tr>\n",
       "      <th>42311</th>\n",
       "      <td>CULTURE AND FASHION TRENDS IN CONSUMPTION</td>\n",
       "      <td>서유리</td>\n",
       "      <td>F 폭격기</td>\n",
       "      <td>1.00</td>\n",
       "      <td>9.29</td>\n",
       "      <td>2016</td>\n",
       "      <td>언더우드국제대학</td>\n",
       "      <td>I진B440</td>\n",
       "    </tr>\n",
       "    <tr>\n",
       "      <th>42402</th>\n",
       "      <td>유기화학(1)</td>\n",
       "      <td>한균희</td>\n",
       "      <td>F 폭격기</td>\n",
       "      <td>1.80</td>\n",
       "      <td>6.57</td>\n",
       "      <td>2016</td>\n",
       "      <td>대학원 융합오믹스 의생명과학과</td>\n",
       "      <td>공A577</td>\n",
       "    </tr>\n",
       "    <tr>\n",
       "      <th>43155</th>\n",
       "      <td>미시경제학</td>\n",
       "      <td>김용균</td>\n",
       "      <td>F 폭격기</td>\n",
       "      <td>1.00</td>\n",
       "      <td>9.22</td>\n",
       "      <td>2016</td>\n",
       "      <td>상경대학 경제학부</td>\n",
       "      <td>상본101</td>\n",
       "    </tr>\n",
       "  </tbody>\n",
       "</table>\n",
       "</div>"
      ],
      "text/plain": [
       "                                    lecture_name professor_name  grade  \\\n",
       "6640                                     전자기학(1)            김덕영  F 폭격기   \n",
       "23785                                       유기화학            정진현  F 폭격기   \n",
       "27355                                      도시학개론             임업  F 폭격기   \n",
       "32108            GREAT BOOKS & DEBATE (국가의탄생과전쟁)            문상석  F 폭격기   \n",
       "32511                                    유기화학(2)            태진성  F 폭격기   \n",
       "32604                                      대학영어Ⅱ          왕그레이스  F 폭격기   \n",
       "38219                                      문학과영화            임정택  F 폭격기   \n",
       "38271        CREATIVE THINKING AND VISUALIZATION            주하영  F 폭격기   \n",
       "39178                                    공학수학(2)            박승경  F 폭격기   \n",
       "42305                                     해석학(1)            황숙정  F 폭격기   \n",
       "42311  CULTURE AND FASHION TRENDS IN CONSUMPTION            서유리  F 폭격기   \n",
       "42402                                    유기화학(1)            한균희  F 폭격기   \n",
       "43155                                      미시경제학            김용균  F 폭격기   \n",
       "\n",
       "       mean_rate  mileage_avg  year           college                room  \n",
       "6640        2.00        11.13  2016          이과대학 물리학          과323(과323)  \n",
       "23785       2.53          NaN  2016          약학대학 약학과              의대131호  \n",
       "27355       3.00          NaN  2016        공과대학 도시공학과              I진C302  \n",
       "32108       1.64         8.06  2016        사회과학대학 사회학               백S608  \n",
       "32511       1.50         5.13  2016           이과대학 화학                과325  \n",
       "32604       2.25          NaN  2016              학부대학              I진A402  \n",
       "38219       2.00        11.80  2016        문과대학 독어독문학                외526  \n",
       "38271       1.14        12.70  2016          언더우드국제대학              I진B206  \n",
       "39178       3.00          NaN  2016           이과대학 수학  공A653/공A528(공A669)  \n",
       "42305       1.00        17.75  2016           이과대학 수학        과B101(과B101)  \n",
       "42311       1.00         9.29  2016          언더우드국제대학              I진B440  \n",
       "42402       1.80         6.57  2016  대학원 융합오믹스 의생명과학과               공A577  \n",
       "43155       1.00         9.22  2016         상경대학 경제학부               상본101  "
      ]
     },
     "execution_count": 1061,
     "metadata": {},
     "output_type": "execute_result"
    }
   ],
   "source": [
    "f = rec.loc[lambda x: x['grade']=='F 폭격기']\n",
    "f"
   ]
  },
  {
   "cell_type": "code",
   "execution_count": 1062,
   "metadata": {
    "scrolled": true
   },
   "outputs": [
    {
     "data": {
      "text/html": [
       "<div>\n",
       "<style>\n",
       "    .dataframe thead tr:only-child th {\n",
       "        text-align: right;\n",
       "    }\n",
       "\n",
       "    .dataframe thead th {\n",
       "        text-align: left;\n",
       "    }\n",
       "\n",
       "    .dataframe tbody tr th {\n",
       "        vertical-align: top;\n",
       "    }\n",
       "</style>\n",
       "<table border=\"1\" class=\"dataframe\">\n",
       "  <thead>\n",
       "    <tr style=\"text-align: right;\">\n",
       "      <th></th>\n",
       "      <th>lecture_name</th>\n",
       "      <th>professor_name</th>\n",
       "    </tr>\n",
       "  </thead>\n",
       "  <tbody>\n",
       "    <tr>\n",
       "      <th>6640</th>\n",
       "      <td>전자기학(1)</td>\n",
       "      <td>김덕영</td>\n",
       "    </tr>\n",
       "    <tr>\n",
       "      <th>23785</th>\n",
       "      <td>유기화학</td>\n",
       "      <td>정진현</td>\n",
       "    </tr>\n",
       "    <tr>\n",
       "      <th>27355</th>\n",
       "      <td>도시학개론</td>\n",
       "      <td>임업</td>\n",
       "    </tr>\n",
       "    <tr>\n",
       "      <th>32108</th>\n",
       "      <td>GREAT BOOKS &amp; DEBATE (국가의탄생과전쟁)</td>\n",
       "      <td>문상석</td>\n",
       "    </tr>\n",
       "    <tr>\n",
       "      <th>32511</th>\n",
       "      <td>유기화학(2)</td>\n",
       "      <td>태진성</td>\n",
       "    </tr>\n",
       "    <tr>\n",
       "      <th>32604</th>\n",
       "      <td>대학영어Ⅱ</td>\n",
       "      <td>왕그레이스</td>\n",
       "    </tr>\n",
       "    <tr>\n",
       "      <th>38219</th>\n",
       "      <td>문학과영화</td>\n",
       "      <td>임정택</td>\n",
       "    </tr>\n",
       "    <tr>\n",
       "      <th>38271</th>\n",
       "      <td>CREATIVE THINKING AND VISUALIZATION</td>\n",
       "      <td>주하영</td>\n",
       "    </tr>\n",
       "    <tr>\n",
       "      <th>39178</th>\n",
       "      <td>공학수학(2)</td>\n",
       "      <td>박승경</td>\n",
       "    </tr>\n",
       "    <tr>\n",
       "      <th>42305</th>\n",
       "      <td>해석학(1)</td>\n",
       "      <td>황숙정</td>\n",
       "    </tr>\n",
       "    <tr>\n",
       "      <th>42311</th>\n",
       "      <td>CULTURE AND FASHION TRENDS IN CONSUMPTION</td>\n",
       "      <td>서유리</td>\n",
       "    </tr>\n",
       "    <tr>\n",
       "      <th>42402</th>\n",
       "      <td>유기화학(1)</td>\n",
       "      <td>한균희</td>\n",
       "    </tr>\n",
       "    <tr>\n",
       "      <th>43155</th>\n",
       "      <td>미시경제학</td>\n",
       "      <td>김용균</td>\n",
       "    </tr>\n",
       "  </tbody>\n",
       "</table>\n",
       "</div>"
      ],
      "text/plain": [
       "                                    lecture_name professor_name\n",
       "6640                                     전자기학(1)            김덕영\n",
       "23785                                       유기화학            정진현\n",
       "27355                                      도시학개론             임업\n",
       "32108            GREAT BOOKS & DEBATE (국가의탄생과전쟁)            문상석\n",
       "32511                                    유기화학(2)            태진성\n",
       "32604                                      대학영어Ⅱ          왕그레이스\n",
       "38219                                      문학과영화            임정택\n",
       "38271        CREATIVE THINKING AND VISUALIZATION            주하영\n",
       "39178                                    공학수학(2)            박승경\n",
       "42305                                     해석학(1)            황숙정\n",
       "42311  CULTURE AND FASHION TRENDS IN CONSUMPTION            서유리\n",
       "42402                                    유기화학(1)            한균희\n",
       "43155                                      미시경제학            김용균"
      ]
     },
     "execution_count": 1062,
     "metadata": {},
     "output_type": "execute_result"
    }
   ],
   "source": [
    "f[['lecture_name','professor_name']]"
   ]
  },
  {
   "cell_type": "markdown",
   "metadata": {},
   "source": [
    "그러면 학회 사람들이 많이 속한 과는 어떨까!"
   ]
  },
  {
   "cell_type": "code",
   "execution_count": 1063,
   "metadata": {
    "collapsed": true
   },
   "outputs": [],
   "source": [
    "def inclu_ybig(row):\n",
    "    if row['college'] in maj[1:]:\n",
    "        return row['college']\n",
    "    else:\n",
    "        return ''"
   ]
  },
  {
   "cell_type": "code",
   "execution_count": 1346,
   "metadata": {
    "collapsed": true
   },
   "outputs": [],
   "source": [
    "ybig = pro.copy()"
   ]
  },
  {
   "cell_type": "code",
   "execution_count": 1347,
   "metadata": {
    "collapsed": true
   },
   "outputs": [],
   "source": [
    "ybig['college'] = ybig.apply(lambda x: inclu_ybig(x), axis=1)"
   ]
  },
  {
   "cell_type": "code",
   "execution_count": 1348,
   "metadata": {
    "collapsed": true
   },
   "outputs": [],
   "source": [
    "ybig = ybig.loc[lambda x: x['college']!='']"
   ]
  },
  {
   "cell_type": "code",
   "execution_count": 1349,
   "metadata": {},
   "outputs": [
    {
     "data": {
      "text/plain": [
       "비율 채워줌    70\n",
       "학점느님      42\n",
       "매우 깐깐함    28\n",
       "F 폭격기      1\n",
       "Name: grade, dtype: int64"
      ]
     },
     "execution_count": 1349,
     "metadata": {},
     "output_type": "execute_result"
    }
   ],
   "source": [
    "ybig['grade'].value_counts()"
   ]
  },
  {
   "cell_type": "markdown",
   "metadata": {},
   "source": [
    "학점느님과 매우 깐깐함의 학과 분포를 봐보자."
   ]
  },
  {
   "cell_type": "code",
   "execution_count": 1350,
   "metadata": {},
   "outputs": [
    {
     "data": {
      "text/plain": [
       "grade   college     \n",
       "F 폭격기   상경대학 경제학부        1\n",
       "매우 깐깐함  상경대학 경제학부       17\n",
       "        공과대학 컴퓨터과학과      6\n",
       "        공과대학 정보산업공학과     2\n",
       "        상경대학 응용통계학       2\n",
       "        공과대학 산업공학과       1\n",
       "비율 채워줌  상경대학 경제학부       36\n",
       "        공과대학 컴퓨터과학과     14\n",
       "        상경대학 응용통계학      11\n",
       "        공과대학 산업공학과       6\n",
       "        공과대학 정보산업공학과     3\n",
       "학점느님    상경대학 경제학부       17\n",
       "        상경대학 응용통계학      11\n",
       "        공과대학 컴퓨터과학과      8\n",
       "        공과대학 정보산업공학과     5\n",
       "        공과대학 산업공학과       1\n",
       "Name: college, dtype: int64"
      ]
     },
     "execution_count": 1350,
     "metadata": {},
     "output_type": "execute_result"
    }
   ],
   "source": [
    "ybig.groupby('grade')['college'].value_counts()"
   ]
  },
  {
   "cell_type": "markdown",
   "metadata": {},
   "source": [
    "경제학부는 빈익빈 부익부가 심하다."
   ]
  },
  {
   "cell_type": "markdown",
   "metadata": {},
   "source": [
    "# best & worst 강의의 token 분석"
   ]
  },
  {
   "cell_type": "code",
   "execution_count": 1361,
   "metadata": {},
   "outputs": [
    {
     "data": {
      "text/plain": [
       "Index(['lecture_name', 'professor_name', 'is_memo_mean', 'is_ess_mean',\n",
       "       'is_report_mean', 'lec_pow_mean', 'prof_eval_sen', 'semester', 'year',\n",
       "       'attendance', 'exam_times', 'grade', 'homework', 'mean_rate', 'team',\n",
       "       'college', 'mileage_avg', 'mileage_max', 'mileage_min', 'room'],\n",
       "      dtype='object')"
      ]
     },
     "execution_count": 1361,
     "metadata": {},
     "output_type": "execute_result"
    }
   ],
   "source": [
    "fin.columns"
   ]
  },
  {
   "cell_type": "code",
   "execution_count": 1456,
   "metadata": {
    "collapsed": true
   },
   "outputs": [],
   "source": [
    "pos = fin_save.copy()\n",
    "pos = pos[['lecture_name', 'professor_name','mean_rate','pos_list']]"
   ]
  },
  {
   "cell_type": "code",
   "execution_count": 1457,
   "metadata": {
    "collapsed": true
   },
   "outputs": [],
   "source": [
    "pos = pos.sort_values(['mean_rate'])"
   ]
  },
  {
   "cell_type": "code",
   "execution_count": 1459,
   "metadata": {
    "collapsed": true
   },
   "outputs": [],
   "source": [
    "pos = pos.fillna('')"
   ]
  },
  {
   "cell_type": "markdown",
   "metadata": {},
   "source": [
    "2.5점 이하 4.5점 이상"
   ]
  },
  {
   "cell_type": "code",
   "execution_count": 1460,
   "metadata": {
    "scrolled": true
   },
   "outputs": [
    {
     "data": {
      "text/plain": [
       "2090"
      ]
     },
     "execution_count": 1460,
     "metadata": {},
     "output_type": "execute_result"
    }
   ],
   "source": [
    "len(pos.loc[lambda x: x['pos_list']!=''])"
   ]
  },
  {
   "cell_type": "code",
   "execution_count": 1431,
   "metadata": {},
   "outputs": [
    {
     "data": {
      "text/plain": [
       "3.7953320896066303"
      ]
     },
     "execution_count": 1431,
     "metadata": {},
     "output_type": "execute_result"
    }
   ],
   "source": [
    "pos['mean_rate'].mean()"
   ]
  },
  {
   "cell_type": "code",
   "execution_count": 1472,
   "metadata": {
    "collapsed": true
   },
   "outputs": [],
   "source": [
    "worst = pos.loc[lambda x: x['mean_rate']<=4.0]\n",
    "best = pos.loc[lambda x: x['mean_rate']>4.0]"
   ]
  },
  {
   "cell_type": "code",
   "execution_count": 1473,
   "metadata": {},
   "outputs": [
    {
     "data": {
      "text/plain": [
       "1154"
      ]
     },
     "execution_count": 1473,
     "metadata": {},
     "output_type": "execute_result"
    }
   ],
   "source": [
    "len(worst.loc[lambda x: x['pos_list']!=''])"
   ]
  },
  {
   "cell_type": "code",
   "execution_count": 1474,
   "metadata": {},
   "outputs": [
    {
     "data": {
      "text/plain": [
       "936"
      ]
     },
     "execution_count": 1474,
     "metadata": {},
     "output_type": "execute_result"
    }
   ],
   "source": [
    "len(best.loc[lambda x: x['pos_list']!=''])"
   ]
  },
  {
   "cell_type": "code",
   "execution_count": 802,
   "metadata": {
    "collapsed": true
   },
   "outputs": [],
   "source": [
    "from collections import Counter"
   ]
  },
  {
   "cell_type": "code",
   "execution_count": 1475,
   "metadata": {
    "collapsed": true
   },
   "outputs": [],
   "source": [
    "worst_tokens = Counter()"
   ]
  },
  {
   "cell_type": "code",
   "execution_count": 1476,
   "metadata": {
    "collapsed": true
   },
   "outputs": [],
   "source": [
    "for tokens in worst['pos_list'].tolist():\n",
    "    if len(tokens) == 0:\n",
    "        continue\n",
    "    else:\n",
    "        for token in tokens:\n",
    "                worst_tokens[token] += 1"
   ]
  },
  {
   "cell_type": "code",
   "execution_count": 1477,
   "metadata": {},
   "outputs": [
    {
     "data": {
      "text/plain": [
       "[('좋/VA', 224),\n",
       " ('잘/MAG', 147),\n",
       " ('없/VA', 113),\n",
       " ('같/VA', 100),\n",
       " ('많/VA', 89),\n",
       " ('너무/MAG', 86),\n",
       " ('정말/MAG', 82),\n",
       " ('많이/MAG', 70),\n",
       " ('안/MAG', 68),\n",
       " ('매우/MAG', 46),\n",
       " ('진짜/MAG', 42),\n",
       " ('좀/MAG', 42),\n",
       " ('다/MAG', 40),\n",
       " ('그냥/MAG', 37),\n",
       " ('열심히/MAG', 34),\n",
       " ('재밌/VA', 31),\n",
       " ('힘들/VA', 30),\n",
       " ('엄청/MAG', 30),\n",
       " ('어렵/VA', 30),\n",
       " ('별로/MAG', 29)]"
      ]
     },
     "execution_count": 1477,
     "metadata": {},
     "output_type": "execute_result"
    }
   ],
   "source": [
    "worst_tokens.most_common(20)"
   ]
  },
  {
   "cell_type": "code",
   "execution_count": 1478,
   "metadata": {
    "collapsed": true
   },
   "outputs": [],
   "source": [
    "worst_va = []\n",
    "\n",
    "for token in worst_tokens.most_common():\n",
    "    if 'VA' in token[0]:\n",
    "        worst_va.append((token))"
   ]
  },
  {
   "cell_type": "code",
   "execution_count": 1481,
   "metadata": {},
   "outputs": [
    {
     "data": {
      "text/plain": [
       "[('좋/VA', 224),\n",
       " ('없/VA', 113),\n",
       " ('같/VA', 100),\n",
       " ('많/VA', 89),\n",
       " ('재밌/VA', 31),\n",
       " ('힘들/VA', 30),\n",
       " ('어렵/VA', 30),\n",
       " ('그렇/VA', 18),\n",
       " ('크/VA', 16),\n",
       " ('쉽/VA', 16)]"
      ]
     },
     "execution_count": 1481,
     "metadata": {},
     "output_type": "execute_result"
    }
   ],
   "source": [
    "worst_va[:10]"
   ]
  },
  {
   "cell_type": "code",
   "execution_count": 1480,
   "metadata": {},
   "outputs": [
    {
     "name": "stdout",
     "output_type": "stream",
     "text": [
      "922\n"
     ]
    }
   ],
   "source": [
    "result = 0\n",
    "for _,num in worst_va:\n",
    "    result+=num\n",
    "print(result)"
   ]
  },
  {
   "cell_type": "code",
   "execution_count": 1482,
   "metadata": {
    "collapsed": true
   },
   "outputs": [],
   "source": [
    "best_tokens = Counter()"
   ]
  },
  {
   "cell_type": "code",
   "execution_count": 1483,
   "metadata": {
    "collapsed": true
   },
   "outputs": [],
   "source": [
    "for tokens in best['pos_list'].tolist():\n",
    "    if len(tokens) == 0:\n",
    "        continue\n",
    "    else:\n",
    "        for token in tokens:\n",
    "                best_tokens[token] += 1"
   ]
  },
  {
   "cell_type": "code",
   "execution_count": 1484,
   "metadata": {},
   "outputs": [
    {
     "data": {
      "text/plain": [
       "[('좋/VA', 282),\n",
       " ('정말/MAG', 111),\n",
       " ('잘/MAG', 110),\n",
       " ('너무/MAG', 91),\n",
       " ('같/VA', 65),\n",
       " ('많/VA', 64),\n",
       " ('없/VA', 58),\n",
       " ('진짜/MAG', 56),\n",
       " ('많이/MAG', 55),\n",
       " ('재밌/VA', 40),\n",
       " ('매우/MAG', 36),\n",
       " ('다/MAG', 34),\n",
       " ('좀/MAG', 33),\n",
       " ('굉장히/MAG', 30),\n",
       " ('안/MAG', 26),\n",
       " ('엄청/MAG', 25),\n",
       " ('쉽/VA', 24),\n",
       " ('어렵/VA', 22),\n",
       " ('그냥/MAG', 20),\n",
       " ('별로/MAG', 20)]"
      ]
     },
     "execution_count": 1484,
     "metadata": {},
     "output_type": "execute_result"
    }
   ],
   "source": [
    "best_tokens.most_common(20)"
   ]
  },
  {
   "cell_type": "code",
   "execution_count": 1485,
   "metadata": {
    "collapsed": true
   },
   "outputs": [],
   "source": [
    "best_va = []\n",
    "\n",
    "for token in best_tokens.most_common():\n",
    "    if 'VA' in token[0]:\n",
    "        best_va.append(token)"
   ]
  },
  {
   "cell_type": "code",
   "execution_count": 1486,
   "metadata": {},
   "outputs": [
    {
     "data": {
      "text/plain": [
       "[('좋/VA', 282),\n",
       " ('같/VA', 65),\n",
       " ('많/VA', 64),\n",
       " ('없/VA', 58),\n",
       " ('재밌/VA', 40),\n",
       " ('쉽/VA', 24),\n",
       " ('어렵/VA', 22),\n",
       " ('재미있/VA', 16),\n",
       " ('귀엽/VA', 15),\n",
       " ('그렇/VA', 14)]"
      ]
     },
     "execution_count": 1486,
     "metadata": {},
     "output_type": "execute_result"
    }
   ],
   "source": [
    "best_va[:10]"
   ]
  },
  {
   "cell_type": "code",
   "execution_count": 1497,
   "metadata": {
    "collapsed": true
   },
   "outputs": [],
   "source": [
    "com_dic = dict()\n",
    "for w_t, w_f in worst_va:\n",
    "    com_dic[w_t] = [w_f]"
   ]
  },
  {
   "cell_type": "code",
   "execution_count": 1498,
   "metadata": {
    "collapsed": true
   },
   "outputs": [],
   "source": [
    "import numpy as np"
   ]
  },
  {
   "cell_type": "code",
   "execution_count": 1499,
   "metadata": {
    "collapsed": true
   },
   "outputs": [],
   "source": [
    "for b_t, b_f in best_va:\n",
    "    if b_t not in com_dic:\n",
    "        com_dic[b_t] = 'upper only,{}'.format(b_f)\n",
    "    else:\n",
    "        com_dic[b_t].append((str(b_f),np.abs(com_dic[b_t][0]-b_f)))"
   ]
  }
 ],
 "metadata": {
  "kernelspec": {
   "display_name": "Python 3",
   "language": "python",
   "name": "python3"
  },
  "language_info": {
   "codemirror_mode": {
    "name": "ipython",
    "version": 3
   },
   "file_extension": ".py",
   "mimetype": "text/x-python",
   "name": "python",
   "nbconvert_exporter": "python",
   "pygments_lexer": "ipython3",
   "version": "3.6.1"
  }
 },
 "nbformat": 4,
 "nbformat_minor": 2
}
