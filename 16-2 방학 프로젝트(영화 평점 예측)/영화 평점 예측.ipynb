{
 "cells": [
  {
   "cell_type": "markdown",
   "metadata": {},
   "source": [
    "# 1. 라이브러리 및 Train Data"
   ]
  },
  {
   "cell_type": "markdown",
   "metadata": {},
   "source": [
    "## 데이터 Read, Merge"
   ]
  },
  {
   "cell_type": "code",
   "execution_count": null,
   "metadata": {},
   "outputs": [],
   "source": [
    "import pandas as pd\n",
    "from pandas import Series, DataFrame\n",
    "import numpy as np\n",
    "from sklearn.preprocessing import LabelEncoder\n",
    "from tqdm import trange\n",
    "encoder=LabelEncoder()\n",
    "pd.set_option('display.max_columns',500)"
   ]
  },
  {
   "cell_type": "code",
   "execution_count": null,
   "metadata": {
    "scrolled": true
   },
   "outputs": [],
   "source": [
    "user=pd.read_csv('users.csv')\n",
    "movie=pd.read_csv('movies.csv')\n",
    "train1=pd.read_csv('rating.csv')\n",
    "train2=train1.merge(user, on='user',how='left')\n",
    "train3=train2.merge(movie, on='movie',how='left')"
   ]
  },
  {
   "cell_type": "markdown",
   "metadata": {},
   "source": [
    "## 각 Dummy 변수마다 Rating 평균을 보여주는 DataFrame 작성"
   ]
  },
  {
   "cell_type": "code",
   "execution_count": null,
   "metadata": {},
   "outputs": [],
   "source": [
    "movie_rating=train3.groupby('movie')['rating'].mean().reset_index().rename(columns={'rating':'rating_movie'})\n",
    "genre_rating=train3.groupby('genre')['rating'].mean().reset_index().rename(columns={'rating':'rating_genre'})\n",
    "user_rating=train3.groupby('user')[['rating']].mean().reset_index().rename(columns={'rating':'rating_user'})\n",
    "job_rating=train3.groupby('job')['rating'].mean().reset_index().rename(columns={'rating':'rating_job'})\n",
    "zip_rating=train3.groupby('zip')['rating'].mean().reset_index().rename(columns={'rating':'rating_zip'})\n",
    "age_rating=train3.groupby('age')['rating'].mean().reset_index().rename(columns={'rating':'rating_age'})"
   ]
  },
  {
   "cell_type": "markdown",
   "metadata": {},
   "source": [
    "## DataFrame 들 합치기"
   ]
  },
  {
   "cell_type": "code",
   "execution_count": null,
   "metadata": {},
   "outputs": [],
   "source": [
    "train4=train3.merge(age_rating, on='age', how='left')\n",
    "train5=train4.merge(job_rating, on='job', how='left')\n",
    "train6=train5.merge(movie_rating, on='movie', how='left')\n",
    "train7=train6.merge(genre_rating, on='genre', how='left')"
   ]
  },
  {
   "cell_type": "code",
   "execution_count": null,
   "metadata": {},
   "outputs": [],
   "source": [
    "train7.describe()"
   ]
  },
  {
   "cell_type": "markdown",
   "metadata": {},
   "source": [
    "## 영화별 Rating 평균 보정 - 유저 수에 따라 다른 값 부여"
   ]
  },
  {
   "cell_type": "code",
   "execution_count": null,
   "metadata": {
    "collapsed": true
   },
   "outputs": [],
   "source": [
    "movie_user=train7.groupby(['movie'])[['user']].count().reset_index()\n",
    "movie_user['count_over140']=(movie_user['user']>=140)\n",
    "movie_count=movie_user.drop(['user'],axis=1)\n",
    "train8=train7.merge(movie_count, on='movie', how='left')"
   ]
  },
  {
   "cell_type": "code",
   "execution_count": null,
   "metadata": {},
   "outputs": [],
   "source": [
    "temp = []\n",
    "for i in trange(len(train8['count_over140'])):\n",
    "    if train8['count_over140'][i]==False:\n",
    "        temp.append(train8['rating_genre'][i])\n",
    "    else:\n",
    "        temp.append(train8['rating_movie'][i])\n",
    "        \n",
    "train8['rating_movie_adj'] = temp"
   ]
  },
  {
   "cell_type": "markdown",
   "metadata": {},
   "source": [
    "\n",
    "## Train 데이터 중간 정리\n"
   ]
  },
  {
   "cell_type": "code",
   "execution_count": null,
   "metadata": {},
   "outputs": [],
   "source": [
    "train8.drop(['id','count_over140','rating_movie','title','sub1', 'sub2', 'sub3', 'sub4', 'sub5'],axis=1, inplace=True)\n",
    "train8.head(3)"
   ]
  },
  {
   "cell_type": "markdown",
   "metadata": {},
   "source": [
    "## Zip을 지역으로 변환"
   ]
  },
  {
   "cell_type": "code",
   "execution_count": null,
   "metadata": {
    "scrolled": false
   },
   "outputs": [],
   "source": [
    "train9=train8.assign(zip_encoded=lambda x: x['zip'].astype(str))\n",
    "train9['region']=train9['zip_encoded'].map(lambda x: x[0:1])\n",
    "train9.drop(['zip','zip_encoded'], axis=1, inplace=True)\n",
    "region_rating=train9.groupby('region')['rating'].mean().reset_index().rename(columns={'rating':'rating_region'})\n",
    "train10=train9.merge(region_rating, on='region', how='left')"
   ]
  },
  {
   "cell_type": "markdown",
   "metadata": {},
   "source": [
    "## 유저 별 평균 추가"
   ]
  },
  {
   "cell_type": "code",
   "execution_count": null,
   "metadata": {},
   "outputs": [],
   "source": [
    "train=train10.merge(user_rating, on='user', how='left')\n",
    "train.head()"
   ]
  },
  {
   "cell_type": "markdown",
   "metadata": {},
   "source": [
    "### Rating 변수들 표준화"
   ]
  },
  {
   "cell_type": "code",
   "execution_count": null,
   "metadata": {
    "scrolled": true
   },
   "outputs": [],
   "source": [
    "# train['rating_user_mean']=train['rating_user'].mean()\n",
    "# train['rating_user_std']=train['rating_user'].std()\n",
    "# std=[]\n",
    "# std=(train['rating_user']-train['rating_user_mean'])/train['rating_user_std']\n",
    "# train['rating_user']=std"
   ]
  },
  {
   "cell_type": "code",
   "execution_count": null,
   "metadata": {
    "collapsed": true
   },
   "outputs": [],
   "source": [
    "# train['rating_movie_mean']=train['rating_movie_adj'].mean()\n",
    "# train['rating_movie_std']=train['rating_movie_adj'].std()\n",
    "# std2=[]\n",
    "# std2=(train['rating_movie_adj']-train['rating_movie_mean'])/train['rating_movie_std']\n",
    "# train['rating_movie_adj']=std2"
   ]
  },
  {
   "cell_type": "code",
   "execution_count": null,
   "metadata": {
    "collapsed": true
   },
   "outputs": [],
   "source": [
    "# train['rating_region_mean']=train['rating_region'].mean()\n",
    "# train['rating_region_std']=train['rating_region'].std()\n",
    "# std3=[]\n",
    "# std3=(train['rating_region']-train['rating_region_mean'])/train['rating_region_std']\n",
    "# train['rating_region']=std3"
   ]
  },
  {
   "cell_type": "code",
   "execution_count": null,
   "metadata": {},
   "outputs": [],
   "source": [
    "# train.drop(['rating_user_mean','rating_user_std','rating_movie_mean','rating_movie_std','rating_region_mean','rating_region_std'],axis=1, inplace=True)"
   ]
  },
  {
   "cell_type": "markdown",
   "metadata": {},
   "source": [
    "# 2. Test Data"
   ]
  },
  {
   "cell_type": "markdown",
   "metadata": {},
   "source": [
    "## 데이터 Read, Merge"
   ]
  },
  {
   "cell_type": "code",
   "execution_count": null,
   "metadata": {
    "scrolled": true
   },
   "outputs": [],
   "source": [
    "test=pd.read_csv('test.csv')\n",
    "test1=test.merge(user, on='user', how='left')\n",
    "test2=test1.merge(movie, on='movie',how='left')\n",
    "test3=test2.merge(age_rating, on='age', how='left')\n",
    "test4=test3.merge(job_rating, on='job', how='left')"
   ]
  },
  {
   "cell_type": "markdown",
   "metadata": {},
   "source": [
    "## 영화별 Rating 보정된 값 대입"
   ]
  },
  {
   "cell_type": "code",
   "execution_count": null,
   "metadata": {},
   "outputs": [],
   "source": [
    "movie_rating2=train.groupby(['movie'])['rating_movie_adj'].unique().reset_index().rename(columns={'rating_movie_adj':'rating_movie'})\n",
    "movie_rating2['rating_movie']=movie_rating2['rating_movie'].astype(float)\n",
    "test5=test4.merge(movie_rating2, on='movie', how='left')\n",
    "test6=test5.merge(genre_rating, on='genre', how='left')"
   ]
  },
  {
   "cell_type": "code",
   "execution_count": null,
   "metadata": {},
   "outputs": [],
   "source": [
    "test6.describe()"
   ]
  },
  {
   "cell_type": "markdown",
   "metadata": {},
   "source": [
    "## 영화별 Rating 평균 Null 처리"
   ]
  },
  {
   "cell_type": "code",
   "execution_count": null,
   "metadata": {
    "collapsed": true
   },
   "outputs": [],
   "source": [
    "movie_user2=test6.groupby(['movie'])[['user']].count().reset_index()\n",
    "movie_user2['count_over140']=(movie_user2['user']>=140)\n",
    "movie_count2=movie_user2.drop(['user'],axis=1)\n",
    "test7=test6.merge(movie_count2, on='movie', how='left')"
   ]
  },
  {
   "cell_type": "code",
   "execution_count": null,
   "metadata": {
    "scrolled": true
   },
   "outputs": [],
   "source": [
    "temp2=[]\n",
    "for i in trange(len(test7['count_over140'])):\n",
    "    if test7['count_over140'][i]==False:\n",
    "        temp2.append(test7['rating_genre'][i])\n",
    "    else:\n",
    "        temp2.append(test7['rating_movie'][i])\n",
    "        \n",
    "test7['rating_movie_adj'] = temp2"
   ]
  },
  {
   "cell_type": "code",
   "execution_count": null,
   "metadata": {},
   "outputs": [],
   "source": [
    "test7.describe()"
   ]
  },
  {
   "cell_type": "code",
   "execution_count": null,
   "metadata": {},
   "outputs": [],
   "source": [
    "temp3=test7['rating_movie_adj'].fillna(0)\n",
    "test7['rating_movie_adj']=temp3\n",
    "temp4=[]\n",
    "for i in trange(len(test7['rating_movie_adj'])):\n",
    "    if test7['rating_movie_adj'][i]==0:\n",
    "        temp4.append(test7['rating_genre'][i])\n",
    "    else:\n",
    "        temp4.append(test7['rating_movie_adj'][i])\n",
    "test7['rating_movie_adj']=temp4"
   ]
  },
  {
   "cell_type": "code",
   "execution_count": null,
   "metadata": {},
   "outputs": [],
   "source": [
    "test7.describe()"
   ]
  },
  {
   "cell_type": "markdown",
   "metadata": {},
   "source": [
    "## Test 데이터 중간 정리"
   ]
  },
  {
   "cell_type": "code",
   "execution_count": null,
   "metadata": {},
   "outputs": [],
   "source": [
    "test7.drop(['id','count_over140','rating_movie','title','sub1', 'sub2', 'sub3', 'sub4', 'sub5'],axis=1, inplace=True)\n",
    "test7.head(3)"
   ]
  },
  {
   "cell_type": "markdown",
   "metadata": {},
   "source": [
    "## Zip을 지역으로 변환"
   ]
  },
  {
   "cell_type": "code",
   "execution_count": null,
   "metadata": {},
   "outputs": [],
   "source": [
    "test8=test7.assign(zip_encoded=lambda x: x['zip'].astype(str))\n",
    "test8['region']=test8['zip_encoded'].map(lambda x: x[0:1])\n",
    "test8.drop(['zip','zip_encoded'], axis=1, inplace=True)\n",
    "test9=test8.merge(region_rating, on='region', how='left')"
   ]
  },
  {
   "cell_type": "code",
   "execution_count": null,
   "metadata": {
    "scrolled": true
   },
   "outputs": [],
   "source": [
    "train.head()"
   ]
  },
  {
   "cell_type": "code",
   "execution_count": null,
   "metadata": {},
   "outputs": [],
   "source": [
    "test9.head()"
   ]
  },
  {
   "cell_type": "markdown",
   "metadata": {},
   "source": [
    "## 유저 별 평균 & Null 처리"
   ]
  },
  {
   "cell_type": "code",
   "execution_count": null,
   "metadata": {},
   "outputs": [],
   "source": [
    "test=test9.merge(user_rating, on='user', how='left')\n",
    "test.describe()"
   ]
  },
  {
   "cell_type": "code",
   "execution_count": null,
   "metadata": {},
   "outputs": [],
   "source": [
    "user_rating2=train.groupby(['sex','age','job','region'])[['rating']].mean().reset_index().rename(columns={'rating':'rating_user2'})\n",
    "test_u1=test.merge(user_rating2, on=['sex','age','job','region'],how='left')\n",
    "temp5=test_u1['rating_user'].fillna(0)\n",
    "test_u1['rating_user']=temp5\n",
    "\n",
    "temp6=[]\n",
    "for i in trange(len(test_u1['rating_user'])):\n",
    "    if test_u1['rating_user'][i]==0:\n",
    "        temp6.append(test_u1['rating_user2'][i])\n",
    "    else:\n",
    "        temp6.append(test_u1['rating_user'][i])\n",
    "test_u1['rating_user']=temp6\n",
    "\n",
    "test_u1.drop(['rating_user2'],axis=1, inplace=True)"
   ]
  },
  {
   "cell_type": "code",
   "execution_count": null,
   "metadata": {
    "collapsed": true
   },
   "outputs": [],
   "source": [
    "test_u1.describe()"
   ]
  },
  {
   "cell_type": "code",
   "execution_count": null,
   "metadata": {},
   "outputs": [],
   "source": [
    "user_rating3=train.groupby(['sex','age','region'])[['rating']].mean().reset_index().rename(columns={'rating':'rating_user3'})\n",
    "test_u2=test_u1.merge(user_rating3, on=['sex','age','region'],how='left')\n",
    "temp7=test_u2['rating_user'].fillna(0)\n",
    "test_u2['rating_user']=temp7\n",
    "\n",
    "temp8=[]\n",
    "for i in trange(len(test_u2['rating_user'])):\n",
    "    if test_u2['rating_user'][i]==0:\n",
    "        temp8.append(test_u2['rating_user3'][i])\n",
    "    else:\n",
    "        temp8.append(test_u2['rating_user'][i])\n",
    "test_u2['rating_user']=temp8\n",
    "test_u2.drop(['rating_user3'],axis=1, inplace=True)"
   ]
  },
  {
   "cell_type": "code",
   "execution_count": null,
   "metadata": {
    "collapsed": true
   },
   "outputs": [],
   "source": [
    "test_u2.describe()"
   ]
  },
  {
   "cell_type": "code",
   "execution_count": null,
   "metadata": {},
   "outputs": [],
   "source": [
    "user_rating4=train.groupby(['sex','age'])[['rating']].mean().reset_index().rename(columns={'rating':'rating_user4'})\n",
    "test_u3=test_u2.merge(user_rating4, on=['sex','age'],how='left')\n",
    "temp9=test_u3['rating_user'].fillna(0)\n",
    "test_u3['rating_user']=temp9\n",
    "\n",
    "temp10=[]\n",
    "for i in trange(len(test_u3['rating_user'])):\n",
    "    if test_u3['rating_user'][i]==0:\n",
    "        temp10.append(test_u3['rating_user4'][i])\n",
    "    else:\n",
    "        temp10.append(test_u3['rating_user'][i])\n",
    "test_u3['rating_user']=temp10\n",
    "test=test_u3.drop(['rating_user4'],axis=1)"
   ]
  },
  {
   "cell_type": "code",
   "execution_count": null,
   "metadata": {
    "scrolled": true
   },
   "outputs": [],
   "source": [
    "test.head()"
   ]
  },
  {
   "cell_type": "code",
   "execution_count": null,
   "metadata": {},
   "outputs": [],
   "source": [
    "train.head()"
   ]
  },
  {
   "cell_type": "markdown",
   "metadata": {},
   "source": [
    "### Rating 변수들 표준화"
   ]
  },
  {
   "cell_type": "code",
   "execution_count": null,
   "metadata": {
    "scrolled": true
   },
   "outputs": [],
   "source": [
    "# genre=genre_rating\n",
    "# genre['rating_genre_mean']=genre['rating_genre'].mean()\n",
    "# genre['rating_genre_std']=genre['rating_genre'].std()\n",
    "# std4=[]\n",
    "# std4=(genre['rating_genre']-genre['rating_genre_mean'])/genre['rating_genre_std']\n",
    "# genre['rating_genre']=std4\n",
    "# genre_rating=genre.drop(['rating_genre_mean','rating_genre_std'],axis=1)"
   ]
  },
  {
   "cell_type": "code",
   "execution_count": null,
   "metadata": {},
   "outputs": [],
   "source": [
    "# user2=user_rating2\n",
    "# user2['rating_user2_mean']=user2['rating_user2'].mean()\n",
    "# user2['rating_user2_std']=user2['rating_user2'].std()\n",
    "# std5=[]\n",
    "# std5=(user2['rating_user2']-user2['rating_user2_mean'])/user2['rating_user2_std']\n",
    "# user2['rating_user2']=std5\n",
    "# user_rating2=user2.drop(['rating_user2_mean','rating_user2_std'],axis=1)"
   ]
  },
  {
   "cell_type": "code",
   "execution_count": null,
   "metadata": {
    "collapsed": true
   },
   "outputs": [],
   "source": [
    "# user3=user_rating3\n",
    "# user3['rating_user3_mean']=user3['rating_user3'].mean()\n",
    "# user3['rating_user3_std']=user3['rating_user3'].std()\n",
    "# std6=[]\n",
    "# std6=(user3['rating_user3']-user3['rating_user3_mean'])/user3['rating_user3_std']\n",
    "# user3['rating_user3']=std6\n",
    "# user_rating3=user3.drop(['rating_user3_mean','rating_user3_std'],axis=1)"
   ]
  },
  {
   "cell_type": "code",
   "execution_count": null,
   "metadata": {
    "collapsed": true
   },
   "outputs": [],
   "source": [
    "# user4=user_rating4\n",
    "# user4['rating_user4_mean']=user4['rating_user4'].mean()\n",
    "# user4['rating_user4_std']=user4['rating_user4'].std()\n",
    "# std7=[]\n",
    "# std7=(user4['rating_user4']-user4['rating_user4_mean'])/user4['rating_user4_std']\n",
    "# user4['rating_user4']=std7\n",
    "# user_rating4=user4.drop(['rating_user4_mean','rating_user4_std'],axis=1)"
   ]
  },
  {
   "cell_type": "code",
   "execution_count": null,
   "metadata": {
    "collapsed": true
   },
   "outputs": [],
   "source": [
    "# job=job_rating\n",
    "# job['rating_job_mean']=job['rating_job'].mean()\n",
    "# job['rating_job_std']=job['rating_job'].std()\n",
    "# std8=[]\n",
    "# std8=(job['rating_job']-job['rating_job_mean'])/job['rating_job_std']\n",
    "# job['rating_job']=std8\n",
    "# job_rating=job.drop(['rating_job_mean','rating_job_std'],axis=1)"
   ]
  },
  {
   "cell_type": "code",
   "execution_count": null,
   "metadata": {
    "collapsed": true
   },
   "outputs": [],
   "source": [
    "# age=age_rating\n",
    "# age['rating_age_mean']=age['rating_age'].mean()\n",
    "# age['rating_age_std']=age['rating_age'].std()\n",
    "# std9=[]\n",
    "# std9=(age['rating_age']-age['rating_age_mean'])/age['rating_age_std']\n",
    "# age['rating_age']=std9\n",
    "# age_rating=age.drop(['rating_age_mean','rating_age_std'],axis=1)"
   ]
  },
  {
   "cell_type": "markdown",
   "metadata": {},
   "source": [
    "# 3. 분석"
   ]
  },
  {
   "cell_type": "markdown",
   "metadata": {},
   "source": [
    "## Dummy화 함수"
   ]
  },
  {
   "cell_type": "code",
   "execution_count": null,
   "metadata": {
    "collapsed": true
   },
   "outputs": [],
   "source": [
    "def process_sex():\n",
    "    global train\n",
    "    train['sex(encoded)']=encoder.fit_transform(train['sex'])\n",
    "\n",
    "def process_job():\n",
    "    global train\n",
    "    job=pd.get_dummies(train['job'], prefix='job')\n",
    "    train=pd.concat([train,job], axis=1) \n",
    "\n",
    "def process_genre():\n",
    "    global train\n",
    "    genre=pd.get_dummies(train['genre'], prefix='genre')\n",
    "    train=pd.concat([train,genre], axis=1)\n",
    "\n",
    "def process_region():\n",
    "    global train\n",
    "    region=pd.get_dummies(train['region'], prefix='region')\n",
    "    train=pd.concat([train,region], axis=1)\n",
    "    \n",
    "def process_age():\n",
    "    global train\n",
    "    age=pd.get_dummies(train['age'], prefix='age')\n",
    "    train=pd.concat([train,age], axis=1)"
   ]
  },
  {
   "cell_type": "code",
   "execution_count": null,
   "metadata": {
    "collapsed": true
   },
   "outputs": [],
   "source": [
    "def process_sex1():\n",
    "    global test\n",
    "    test['sex(encoded)']=encoder.fit_transform(test['sex'])\n",
    "    \n",
    "def process_job1():\n",
    "    global test\n",
    "    job=pd.get_dummies(test['job'], prefix='job')\n",
    "    \n",
    "    test=pd.concat([test,job], axis=1) \n",
    "\n",
    "def process_genre1():\n",
    "    global test\n",
    "    genre=pd.get_dummies(test['genre'], prefix='genre')\n",
    "    \n",
    "    test=pd.concat([test,genre], axis=1)\n",
    "    \n",
    "def process_region1():\n",
    "    global test\n",
    "    region=pd.get_dummies(test['region'], prefix='region')\n",
    "    \n",
    "    test=pd.concat([test,region], axis=1)\n",
    "    \n",
    "\n",
    "def process_age1():\n",
    "    global test\n",
    "    age=pd.get_dummies(test['age'], prefix='age')\n",
    "    \n",
    "    test=pd.concat([test,age], axis=1)"
   ]
  },
  {
   "cell_type": "markdown",
   "metadata": {},
   "source": [
    "## 선형 회귀"
   ]
  },
  {
   "cell_type": "code",
   "execution_count": null,
   "metadata": {
    "collapsed": true
   },
   "outputs": [],
   "source": [
    "from sklearn.linear_model import LogisticRegression, LinearRegression\n",
    "from sklearn.ensemble import RandomForestClassifier"
   ]
  },
  {
   "cell_type": "code",
   "execution_count": null,
   "metadata": {},
   "outputs": [],
   "source": [
    "#train.to_csv(\"train_spss.csv\", index=False)"
   ]
  },
  {
   "cell_type": "code",
   "execution_count": null,
   "metadata": {
    "collapsed": true
   },
   "outputs": [],
   "source": [
    "train_before=train\n",
    "process_sex()\n",
    "process_sex1()\n",
    "process_job()\n",
    "process_job1()\n",
    "process_age()\n",
    "process_age1()\n",
    "process_region()\n",
    "process_region1()\n",
    "process_genre()\n",
    "process_genre1()"
   ]
  },
  {
   "cell_type": "code",
   "execution_count": null,
   "metadata": {
    "scrolled": true
   },
   "outputs": [],
   "source": [
    "train.columns"
   ]
  },
  {
   "cell_type": "code",
   "execution_count": null,
   "metadata": {},
   "outputs": [],
   "source": [
    "test.columns"
   ]
  },
  {
   "cell_type": "code",
   "execution_count": null,
   "metadata": {
    "collapsed": true
   },
   "outputs": [],
   "source": [
    "feature=['sex(encoded)', 'rating_age',\n",
    "       'rating_job', 'rating_genre', 'rating_movie_adj',\n",
    "       'rating_region', 'rating_user']"
   ]
  },
  {
   "cell_type": "code",
   "execution_count": null,
   "metadata": {},
   "outputs": [],
   "source": [
    "target=train['rating']\n",
    "train_t=train[feature]\n",
    "test_t=test[feature]\n",
    "train_t['constant']=1\n",
    "test_t['constant']=1"
   ]
  },
  {
   "cell_type": "code",
   "execution_count": null,
   "metadata": {
    "collapsed": true
   },
   "outputs": [],
   "source": [
    "model=LinearRegression()\n",
    "model.fit(train_t,target)\n",
    "result=model.predict(test_t)"
   ]
  },
  {
   "cell_type": "code",
   "execution_count": null,
   "metadata": {
    "collapsed": true
   },
   "outputs": [],
   "source": [
    "raw=pd.read_csv('sample_submission.csv')\n",
    "output=pd.DataFrame()\n",
    "output['user']=raw['user']\n",
    "output['rating']=result\n",
    "output['id']=raw['id']\n",
    "output.to_csv('output64.csv', index=False)"
   ]
  },
  {
   "cell_type": "code",
   "execution_count": null,
   "metadata": {
    "collapsed": true
   },
   "outputs": [],
   "source": [
    "#점수: 4.31319"
   ]
  },
  {
   "cell_type": "code",
   "execution_count": null,
   "metadata": {
    "collapsed": true
   },
   "outputs": [],
   "source": [
    "feature2=['rating', 'sex', 'age', 'job', 'genre', 'rating_age',\n",
    "       'rating_job', 'rating_genre', 'rating_movie_adj', 'region',\n",
    "       'rating_region', 'rating_user']\n",
    "train_t2=train[feature2]"
   ]
  },
  {
   "cell_type": "markdown",
   "metadata": {},
   "source": [
    "## Forward Selection....너무 느림"
   ]
  },
  {
   "cell_type": "code",
   "execution_count": null,
   "metadata": {
    "collapsed": true
   },
   "outputs": [],
   "source": [
    "import statsmodels.formula.api as smf\n",
    "\n",
    "def forward_selected(data, response):\n",
    "   \n",
    "    remaining = set(data.columns)\n",
    "    remaining.remove(response)\n",
    "    selected = []\n",
    "    current_score, best_new_score = 0.0, 0.0\n",
    "    while remaining and current_score == best_new_score:\n",
    "        scores_with_candidates = []\n",
    "        for candidate in remaining:\n",
    "            formula = \"{} ~ {} + 1\".format(response,\n",
    "                                           ' + '.join(selected + [candidate]))\n",
    "            score = smf.ols(formula, data).fit().rsquared_adj\n",
    "            scores_with_candidates.append((score, candidate))\n",
    "        scores_with_candidates.sort()\n",
    "        best_new_score, best_candidate = scores_with_candidates.pop()\n",
    "        if current_score < best_new_score:\n",
    "            remaining.remove(best_candidate)\n",
    "            selected.append(best_candidate)\n",
    "            current_score = best_new_score\n",
    "    formula = \"{} ~ {} + 1\".format(response,\n",
    "                                   ' + '.join(selected))\n",
    "    model = smf.ols(formula, data).fit()\n",
    "    return model"
   ]
  },
  {
   "cell_type": "code",
   "execution_count": null,
   "metadata": {},
   "outputs": [],
   "source": [
    "model2=forward_selected(train_t2,'rating')"
   ]
  },
  {
   "cell_type": "code",
   "execution_count": null,
   "metadata": {},
   "outputs": [],
   "source": [
    "print(model2.summary())"
   ]
  },
  {
   "cell_type": "markdown",
   "metadata": {},
   "source": [
    "## 랜덤 포레스트"
   ]
  },
  {
   "cell_type": "code",
   "execution_count": null,
   "metadata": {
    "collapsed": true
   },
   "outputs": [],
   "source": [
    "forest=RandomForestClassifier(n_estimators=100,max_depth=10)"
   ]
  },
  {
   "cell_type": "code",
   "execution_count": null,
   "metadata": {},
   "outputs": [],
   "source": [
    "forest=forest.fit(train_t, target)"
   ]
  },
  {
   "cell_type": "code",
   "execution_count": null,
   "metadata": {},
   "outputs": [],
   "source": [
    "result2=forest.predict(test_t)"
   ]
  },
  {
   "cell_type": "code",
   "execution_count": null,
   "metadata": {},
   "outputs": [],
   "source": [
    "raw2=pd.read_csv('sample_submission.csv')\n",
    "output = pd.DataFrame()\n",
    "output['user']=raw2['user']\n",
    "output['rating']=result2\n",
    "output['id']=raw2['id']\n",
    "output.to_csv('output51.csv', index=False)"
   ]
  },
  {
   "cell_type": "markdown",
   "metadata": {},
   "source": [
    "## 로지스틱 회귀"
   ]
  },
  {
   "cell_type": "code",
   "execution_count": null,
   "metadata": {
    "collapsed": true
   },
   "outputs": [],
   "source": [
    "lr=LogisticRegression()"
   ]
  },
  {
   "cell_type": "code",
   "execution_count": null,
   "metadata": {
    "collapsed": true
   },
   "outputs": [],
   "source": [
    "lr=lr.fit(train_t, target)"
   ]
  },
  {
   "cell_type": "code",
   "execution_count": null,
   "metadata": {
    "collapsed": true
   },
   "outputs": [],
   "source": [
    "result3=lr.predict(test_t)"
   ]
  },
  {
   "cell_type": "code",
   "execution_count": null,
   "metadata": {
    "collapsed": true
   },
   "outputs": [],
   "source": [
    "raw3=pd.read_csv('sample_submission.csv')\n",
    "output = pd.DataFrame()\n",
    "output['user']=raw3['user']\n",
    "output['rating']=result3\n",
    "output['id']=raw3['id']\n",
    "output.to_csv('output57.csv', index=False)"
   ]
  }
 ],
 "metadata": {
  "anaconda-cloud": {},
  "kernelspec": {
   "display_name": "Python 3",
   "language": "python",
   "name": "python3"
  },
  "language_info": {
   "codemirror_mode": {
    "name": "ipython",
    "version": 3
   },
   "file_extension": ".py",
   "mimetype": "text/x-python",
   "name": "python",
   "nbconvert_exporter": "python",
   "pygments_lexer": "ipython3",
   "version": "3.6.1"
  }
 },
 "nbformat": 4,
 "nbformat_minor": 1
}
