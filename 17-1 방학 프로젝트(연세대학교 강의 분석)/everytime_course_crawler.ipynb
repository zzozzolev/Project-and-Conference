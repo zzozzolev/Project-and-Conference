{
 "cells": [
  {
   "cell_type": "markdown",
   "metadata": {},
   "source": [
    "!pip install requests"
   ]
  },
  {
   "cell_type": "markdown",
   "metadata": {},
   "source": [
    "## Log-in Everytime website"
   ]
  },
  {
   "cell_type": "code",
   "execution_count": 1,
   "metadata": {
    "collapsed": true
   },
   "outputs": [],
   "source": [
    "import requests\n",
    "\n",
    "USER_ID = 'cyh0967'\n",
    "USER_PASSWORD = 'po1545718'\n",
    "\n",
    "params = {'userid': USER_ID, 'password': USER_PASSWORD}\n",
    "login_response = requests.post('https://everytime.kr/user/login', data = params)\n",
    "cookie = login_response.cookies"
   ]
  },
  {
   "cell_type": "markdown",
   "metadata": {},
   "source": [
    "## Get access token required for query"
   ]
  },
  {
   "cell_type": "code",
   "execution_count": 2,
   "metadata": {
    "collapsed": true
   },
   "outputs": [],
   "source": [
    "token_url = \"http://everytime.kr/lecture?campus_id=1&page=%d\" % 1\n",
    "token_response = requests.post(token_url, cookies = cookie)"
   ]
  },
  {
   "cell_type": "markdown",
   "metadata": {},
   "source": [
    "## Parse HTML to get access token which is hidden"
   ]
  },
  {
   "cell_type": "code",
   "execution_count": 3,
   "metadata": {},
   "outputs": [
    {
     "name": "stdout",
     "output_type": "stream",
     "text": [
      "t6FJsfnhID5VkcEohzaI8UhZNOpzF2eDRFTLqv59mOzDgamql8S9BgpulpC0nx/xIVwVBHY3eNBYx0rpWhjQE07cCGRbO8XmVx1SLJdy+Pf6/O6JI+6THLLAVf5LXxYr\n"
     ]
    }
   ],
   "source": [
    "from io import StringIO\n",
    "import re\n",
    "user_token = None\n",
    "raw_input = StringIO(token_response.text)\n",
    "for line in raw_input.readlines():\n",
    "    if '<input type=\"hidden\" id=\"userToken\" value' in line:\n",
    "        p = re.compile('value=\".*\"')\n",
    "        user_token = p.search(line.strip()).group()[7:-1]\n",
    "        print(user_token)"
   ]
  },
  {
   "cell_type": "markdown",
   "metadata": {},
   "source": [
    "## Get lecture comments from everytime server"
   ]
  },
  {
   "cell_type": "code",
   "execution_count": 4,
   "metadata": {
    "collapsed": true,
    "scrolled": false
   },
   "outputs": [],
   "source": [
    "params = {\n",
    "    'campus_id': '1',\n",
    "    'limit_num': '100000',\n",
    "    'start_num': '0',\n",
    "    'token': user_token,\n",
    "}\n",
    "\n",
    "timetable_server_url = \"http://timetable.everytime.kr/ajax/lecture/getAllArticles\"\n",
    "comment_response = requests.post(timetable_server_url, data = params, cookies = cookie)"
   ]
  },
  {
   "cell_type": "markdown",
   "metadata": {},
   "source": [
    "## Collect lecture IDs"
   ]
  },
  {
   "cell_type": "code",
   "execution_count": 5,
   "metadata": {
    "collapsed": true
   },
   "outputs": [],
   "source": [
    "import xmltodict\n",
    "\n",
    "comment_dict = xmltodict.parse(comment_response.text)"
   ]
  },
  {
   "cell_type": "code",
   "execution_count": 6,
   "metadata": {
    "collapsed": true
   },
   "outputs": [],
   "source": [
    "lecture_id = []\n",
    "\n",
    "for comment in comment_dict['response']['article']:\n",
    "    lecture_id.append(comment['@lecture_id'])"
   ]
  },
  {
   "cell_type": "markdown",
   "metadata": {},
   "source": [
    "## Get lecture informations"
   ]
  },
  {
   "cell_type": "markdown",
   "metadata": {},
   "source": [
    "!pip install tqdm"
   ]
  },
  {
   "cell_type": "code",
   "execution_count": 8,
   "metadata": {},
   "outputs": [
    {
     "name": "stderr",
     "output_type": "stream",
     "text": [
      "100%|██████████| 25668/25668 [30:27<00:00, 14.13it/s]\n"
     ]
    }
   ],
   "source": [
    "import time\n",
    "from tqdm import tqdm\n",
    "\n",
    "lecture_data = {\n",
    "    'name':[], 'professor':[], 'rate':[],\n",
    "    'grade':[], 'homework':[], 'team':[], 'attendance':[], 'exam_times':[]\n",
    "}\n",
    "\n",
    "for i in tqdm(range(len(lecture_id))):\n",
    "    params = {\n",
    "        'school_id': '1',\n",
    "        'limit_num': '1',\n",
    "        'token': user_token,\n",
    "        'lecture_id': lecture_id[i]\n",
    "    }\n",
    "\n",
    "    timetable_server_url = \"http://timetable.everytime.kr/ajax/lecture/getArticles\"\n",
    "    lecture_response = requests.post(timetable_server_url, data = params, cookies = cookie)\n",
    "    \n",
    "    lecture_dict = xmltodict.parse(lecture_response.text)\n",
    "    \n",
    "    lecture_data['name'].append(lecture_dict['response']['lecture']['@name'])\n",
    "    lecture_data['professor'].append(lecture_dict['response']['lecture']['@professor'])\n",
    "    lecture_data['rate'].append(lecture_dict['response']['rate'])\n",
    "    \n",
    "    lecture_data['grade'].append(lecture_dict['response']['details']['@assessment_grade'])\n",
    "    lecture_data['homework'].append(lecture_dict['response']['details']['@assessment_homework'])\n",
    "    lecture_data['team'].append(lecture_dict['response']['details']['@assessment_team'])\n",
    "    lecture_data['attendance'].append(lecture_dict['response']['details']['@assessment_attendance'])\n",
    "    lecture_data['exam_times'].append(lecture_dict['response']['details']['@exam_times'])\n",
    "    time.sleep(0.05)"
   ]
  },
  {
   "cell_type": "markdown",
   "metadata": {},
   "source": [
    "## Make DataFrame with lecture informations"
   ]
  },
  {
   "cell_type": "code",
   "execution_count": 12,
   "metadata": {
    "collapsed": true
   },
   "outputs": [],
   "source": [
    "from pandas import DataFrame\n",
    "\n",
    "lecture_df = DataFrame.from_dict(lecture_data)"
   ]
  },
  {
   "cell_type": "code",
   "execution_count": 13,
   "metadata": {},
   "outputs": [
    {
     "data": {
      "text/plain": [
       "0     비율 채워줌\n",
       "1       학점느님\n",
       "2       학점느님\n",
       "3       학점느님\n",
       "4       학점느님\n",
       "5       학점느님\n",
       "6     비율 채워줌\n",
       "7       학점느님\n",
       "8     비율 채워줌\n",
       "9     비율 채워줌\n",
       "10    비율 채워줌\n",
       "Name: grade, dtype: object"
      ]
     },
     "execution_count": 13,
     "metadata": {},
     "output_type": "execute_result"
    }
   ],
   "source": [
    "lecture_df.loc[:10, 'grade']"
   ]
  },
  {
   "cell_type": "markdown",
   "metadata": {},
   "source": [
    "## Save DataFrame to csv file"
   ]
  },
  {
   "cell_type": "code",
   "execution_count": 15,
   "metadata": {},
   "outputs": [],
   "source": [
    "lecture_df.to_csv('everytime_lecture.csv', encoding='utf-8')"
   ]
  },
  {
   "cell_type": "code",
   "execution_count": null,
   "metadata": {
    "collapsed": true
   },
   "outputs": [],
   "source": []
  }
 ],
 "metadata": {
  "kernelspec": {
   "display_name": "Python 3",
   "language": "python",
   "name": "python3"
  },
  "language_info": {
   "codemirror_mode": {
    "name": "ipython",
    "version": 3
   },
   "file_extension": ".py",
   "mimetype": "text/x-python",
   "name": "python",
   "nbconvert_exporter": "python",
   "pygments_lexer": "ipython3",
   "version": "3.5.2"
  }
 },
 "nbformat": 4,
 "nbformat_minor": 2
}
